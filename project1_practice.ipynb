{
 "cells": [
  {
   "cell_type": "code",
   "execution_count": 1,
   "id": "3a558b57-0b5d-421f-9611-27aecb264ff7",
   "metadata": {},
   "outputs": [],
   "source": [
    "#checking this air quality api: https://aqs.epa.gov/aqsweb/documents/data_api.html\n",
    "import requests\n",
    "import json\n",
    "import pandas as pd\n",
    "import numpy as np"
   ]
  },
  {
   "cell_type": "code",
   "execution_count": 2,
   "id": "c562d553-6490-483f-92bd-f558458e345c",
   "metadata": {},
   "outputs": [],
   "source": [
    "#Example url by state: returns PEP Audit data for FRM PM2.5 in Alabama for 2017:\n",
    "#https://aqs.epa.gov/data/api/qaPepAudits/byState?email=test@aqs.api&key=test&param=88101&bdate=20170101&edate=20171231&state=01\n",
    "#parameter keys: PM2.5=88101, benzene=45201, []\n",
    "#stateIDs: Al=01, []\n",
    "#date format is yyyymmdd\n",
    "url_PEPaudit_state = \"https://aqs.epa.gov/data/api/qaPepAudits/byState?\"\n",
    "my_email = \"amorelseeds@gmail.com\"\n",
    "api_key= \"rubymallard71\"\n",
    "#url_check = \"https://aqs.epa.gov/data/api/metaData/isAvailable\"\n",
    "stateCode = \"01\"\n",
    "date = \"x\"\n",
    "pollutantkey = \"y\"\n",
    "#query_url_PEPaudit = url_PEPaudit_state + \"email=\" + my_email + \"@aqs.api&key=\" + api_key + \"&param=\" + pollutantkey + \"&bdate=\" + date + \"&state=\" + stateCode"
   ]
  },
  {
   "cell_type": "code",
   "execution_count": 6,
   "id": "7292e7ad-f3c5-4156-a3f2-857c5047aa42",
   "metadata": {},
   "outputs": [
    {
     "name": "stdout",
     "output_type": "stream",
     "text": [
      "[['NAME', 'POP_2021', 'state'], ['New Jersey', '9267130', '34']]\n"
     ]
    }
   ],
   "source": [
    "#census api (https://www.census.gov/data/developers/data-sets/popest-popproj/popest.html)\n",
    "#https://www.census.gov/data/developers/data-sets.html \n",
    "#more examples (inclu state and region requests): https://api.census.gov/data/2021/pep/population/examples.html\n",
    "#note: 01 is Alabama. get states in series/df?\n",
    "from census import Census\n",
    "#pip installed package \"us\" for num code and abbrev for all states and territories\n",
    "from us import states\n",
    "#print(states.fips)\n",
    "# also check class 6.3 actv 1\n",
    "base_url = \"api.census.gov/data/2021/pep/population?\"\n",
    "apikey_census = \"c64947cf81811a86a73d3fd63a3e97016b75466e\"\n",
    "year = \"2021\"\n",
    "state_key = \"34\"\n",
    "summary_lvl = \"050\" #gives me county level\n",
    "#query_census = f base_url+ \"get=NAME,POP_\" + {year} + \"&for=state:\" + {state_key} + \"SUMLEVEL=\" + {summary_lvl} + \"&key=\" + {apikey_census}\n",
    "query_census = f\"https://api.census.gov/data/2021/pep/population?get=NAME,POP_2021&for=state:{state_key}&key={apikey_census}\"\n",
    "\n",
    "#working on include couny level parameter\n",
    "#query_census = f\"{base_url}data/{year}/pep/population?get=NAME,POP_{year}&for=state:{state_key}&forSUMLEVEL={summary_lvl}&key={apikey_census}\"\n",
    "census_data = requests.get(query_census).json()\n",
    "\n",
    "# Print the json\n",
    "print(census_data)\n",
    "\n",
    "#used class 6.3 activty 8\n",
    "# Create an instance of the Census library (not the census api)\n",
    "#c = Census(\n",
    "#    apikey_census,\n",
    "#    year = 2021\n",
    "#)\n",
    "# code originally used below is for data on all zip codes (2013 ACS5 Census)\n",
    "#census_data = c.acs5.get(\n",
    "#    (\n",
    "#        \"NAME\",\n",
    "#        \"B19013_001E\",\n",
    "#        \"B01003_001E\",\n",
    "#        \"B01002_001E\",\n",
    "#        \"B19301_001E\",\n",
    "#        \"B17001_002E\"\n",
    "#    ),\n",
    "#    {'for': 'zip code tabulation area:*'}\n",
    "#)\n",
    "\n",
    "# Convert to DataFrame\n",
    "#census_pd = pd.DataFrame(census_data)\n",
    "# Column renaming\n",
    "\n",
    "# Run Census Search to retrieve data on all popul info (total, density) for 2021 - in total, then by city from our team excel"
   ]
  },
  {
   "cell_type": "code",
   "execution_count": null,
   "id": "0ab34a9d-c7a4-4c78-ad61-d711a921bca4",
   "metadata": {},
   "outputs": [],
   "source": []
  }
 ],
 "metadata": {
  "kernelspec": {
   "display_name": "Python 3 (ipykernel)",
   "language": "python",
   "name": "python3"
  },
  "language_info": {
   "codemirror_mode": {
    "name": "ipython",
    "version": 3
   },
   "file_extension": ".py",
   "mimetype": "text/x-python",
   "name": "python",
   "nbconvert_exporter": "python",
   "pygments_lexer": "ipython3",
   "version": "3.10.14"
  }
 },
 "nbformat": 4,
 "nbformat_minor": 5
}
