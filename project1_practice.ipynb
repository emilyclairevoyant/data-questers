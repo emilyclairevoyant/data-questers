{
 "cells": [
  {
   "cell_type": "code",
   "execution_count": 1,
   "id": "3a558b57-0b5d-421f-9611-27aecb264ff7",
   "metadata": {},
   "outputs": [],
   "source": [
    "#checking this air quality api: https://aqs.epa.gov/aqsweb/documents/data_api.html\n",
    "import requests\n",
    "import json\n",
    "import pandas as pd\n",
    "import numpy as np"
   ]
  },
  {
   "cell_type": "code",
   "execution_count": 2,
   "id": "c562d553-6490-483f-92bd-f558458e345c",
   "metadata": {},
   "outputs": [],
   "source": [
    "#Example url by state: returns PEP Audit data for FRM PM2.5 in Alabama for 2017:\n",
    "#https://aqs.epa.gov/data/api/qaPepAudits/byState?email=test@aqs.api&key=test&param=88101&bdate=20170101&edate=20171231&state=01\n",
    "#parameter keys: PM2.5=88101, benzene=45201, []\n",
    "#stateIDs: Al=01, []\n",
    "#date format is yyyymmdd\n",
    "url_PEPaudit_state = \"https://aqs.epa.gov/data/api/qaPepAudits/byState?\"\n",
    "my_email = \"amorelseeds@gmail.com\"\n",
    "api_key= \"rubymallard71\"\n",
    "#url_check = \"https://aqs.epa.gov/data/api/metaData/isAvailable\"\n",
    "stateCode = \"01\"\n",
    "date = \"x\"\n",
    "pollutantkey = \"y\"\n",
    "#query_url_PEPaudit = url_PEPaudit_state + \"email=\" + my_email + \"@aqs.api&key=\" + api_key + \"&param=\" + pollutantkey + \"&bdate=\" + date + \"&state=\" + stateCode"
   ]
  },
  {
   "cell_type": "code",
   "execution_count": 12,
   "id": "707e2d4d-171b-4845-9a9c-806ae7c5c6d4",
   "metadata": {},
   "outputs": [
    {
     "name": "stdout",
     "output_type": "stream",
     "text": [
      "                             NAME  B01003_001E state county\n",
      "0     Atlantic County, New Jersey     274339.0    34    001\n",
      "1       Bergen County, New Jersey     953243.0    34    003\n",
      "2   Burlington County, New Jersey     461853.0    34    005\n",
      "3       Camden County, New Jersey     522581.0    34    007\n",
      "4     Cape May County, New Jersey      95456.0    34    009\n",
      "5   Cumberland County, New Jersey     153588.0    34    011\n",
      "6        Essex County, New Jersey     853374.0    34    013\n",
      "7   Gloucester County, New Jersey     302621.0    34    015\n",
      "8       Hudson County, New Jersey     712029.0    34    017\n",
      "9    Hunterdon County, New Jersey     129099.0    34    019\n",
      "10      Mercer County, New Jersey     383732.0    34    021\n",
      "11   Middlesex County, New Jersey     860147.0    34    023\n",
      "12    Monmouth County, New Jersey     643064.0    34    025\n",
      "13      Morris County, New Jersey     508816.0    34    027\n",
      "14       Ocean County, New Jersey     638691.0    34    029\n",
      "15     Passaic County, New Jersey     519986.0    34    031\n",
      "16       Salem County, New Jersey      64840.0    34    033\n",
      "17    Somerset County, New Jersey     344978.0    34    035\n",
      "18      Sussex County, New Jersey     144808.0    34    037\n",
      "19       Union County, New Jersey     572079.0    34    039\n",
      "20      Warren County, New Jersey     109739.0    34    041\n"
     ]
    }
   ],
   "source": [
    "from census import Census\n",
    "from us import states\n",
    "\n",
    "# Insert your Census API key here\n",
    "c = Census(\"c64947cf81811a86a73d3fd63a3e97016b75466e\")\n",
    "\n",
    "# Specify the variables you want to retrieve. For population density, you would typically need Total Population and Land Area.\n",
    "#We specify the variables we want to retrieve, including the total population (B01003_001E) and land area.\n",
    "variables = (\"NAME\", \"B01003_001E\", \"B01003_001E\")\n",
    "\n",
    "# Query the Census API for New Jersey data\n",
    "nj_population_data = c.acs5.state_county(variables, states.NJ.fips, Census.ALL)\n",
    "\n",
    "# Convert the data into a DataFrame\n",
    "nj_population_df = pd.DataFrame(nj_population_data)\n",
    "\n",
    "# Display the DataFrame\n",
    "print(nj_population_df.head(21))"
   ]
  },
  {
   "cell_type": "code",
   "execution_count": 7,
   "id": "34a6a2f9-0b70-4791-83d2-ff5174906f49",
   "metadata": {},
   "outputs": [
    {
     "name": "stdout",
     "output_type": "stream",
     "text": [
      "                            NAME  B01003_001E  B01001_001E state county\n",
      "0    Atlantic County, New Jersey     274339.0     274339.0    34    001\n",
      "1      Bergen County, New Jersey     953243.0     953243.0    34    003\n",
      "2  Burlington County, New Jersey     461853.0     461853.0    34    005\n",
      "3      Camden County, New Jersey     522581.0     522581.0    34    007\n",
      "4    Cape May County, New Jersey      95456.0      95456.0    34    009\n"
     ]
    }
   ],
   "source": [
    "#Use the c.acs5.state_county method to retrieve the population data for New Jersey by county and year:\n",
    "nj_population2 = c.acs5.state_county((\"NAME\", \"B01003_001E\", \"B01001_001E\"), states.NJ.fips, Census.ALL)\n",
    "\n",
    "#Convert the retrieved data into a DataFrame for further analysis:\n",
    "nj_population_df2 = pd.DataFrame(nj_population2)\n",
    "print(nj_population_df2.head())"
   ]
  },
  {
   "cell_type": "code",
   "execution_count": 6,
   "id": "7292e7ad-f3c5-4156-a3f2-857c5047aa42",
   "metadata": {},
   "outputs": [
    {
     "name": "stdout",
     "output_type": "stream",
     "text": [
      "[['NAME', 'POP_2021', 'state'], ['New Jersey', '9267130', '34']]\n"
     ]
    }
   ],
   "source": [
    "#census api (https://www.census.gov/data/developers/data-sets/popest-popproj/popest.html)\n",
    "#https://www.census.gov/data/developers/data-sets.html \n",
    "#more examples (inclu state and region requests): https://api.census.gov/data/2021/pep/population/examples.html\n",
    "#note: 01 is Alabama. get states in series/df?\n",
    "from census import Census\n",
    "#pip installed package \"us\" for num code and abbrev for all states and territories\n",
    "from us import states\n",
    "#print(states.fips)\n",
    "# also check class 6.3 actv 1\n",
    "base_url = \"api.census.gov/data/2021/pep/population?\"\n",
    "apikey_census = \"c64947cf81811a86a73d3fd63a3e97016b75466e\"\n",
    "year = \"2021\"\n",
    "state_key = \"34\"\n",
    "summary_lvl = \"050\" #gives me county level\n",
    "#query_census = f base_url+ \"get=NAME,POP_\" + {year} + \"&for=state:\" + {state_key} + \"SUMLEVEL=\" + {summary_lvl} + \"&key=\" + {apikey_census}\n",
    "query_census = f\"https://api.census.gov/data/2021/pep/population?get=NAME,POP_2021&for=state:{state_key}&key={apikey_census}\"\n",
    "\n",
    "#working on include couny level parameter\n",
    "#query_census = f\"{base_url}data/{year}/pep/population?get=NAME,POP_{year}&for=state:{state_key}&forSUMLEVEL={summary_lvl}&key={apikey_census}\"\n",
    "census_data = requests.get(query_census).json()\n",
    "\n",
    "# Print the json\n",
    "print(census_data)\n",
    "\n",
    "#used class 6.3 activty 8\n",
    "# Create an instance of the Census library (not the census api)\n",
    "#c = Census(\n",
    "#    apikey_census,\n",
    "#    year = 2021\n",
    "#)\n",
    "# code originally used below is for data on all zip codes (2013 ACS5 Census)\n",
    "#census_data = c.acs5.get(\n",
    "#    (\n",
    "#        \"NAME\",\n",
    "#        \"B19013_001E\",\n",
    "#        \"B01003_001E\",\n",
    "#        \"B01002_001E\",\n",
    "#        \"B19301_001E\",\n",
    "#        \"B17001_002E\"\n",
    "#    ),\n",
    "#    {'for': 'zip code tabulation area:*'}\n",
    "#)\n",
    "\n",
    "# Convert to DataFrame\n",
    "#census_pd = pd.DataFrame(census_data)\n",
    "# Column renaming\n",
    "\n",
    "# Run Census Search to retrieve data on all popul info (total, density) for 2021 - in total, then by city from our team excel"
   ]
  },
  {
   "cell_type": "code",
   "execution_count": null,
   "id": "0ab34a9d-c7a4-4c78-ad61-d711a921bca4",
   "metadata": {},
   "outputs": [],
   "source": []
  },
  {
   "cell_type": "code",
   "execution_count": null,
   "id": "7901b41a-84dc-491e-9bf3-6d094dbf7d14",
   "metadata": {},
   "outputs": [],
   "source": []
  }
 ],
 "metadata": {
  "kernelspec": {
   "display_name": "Python 3 (ipykernel)",
   "language": "python",
   "name": "python3"
  },
  "language_info": {
   "codemirror_mode": {
    "name": "ipython",
    "version": 3
   },
   "file_extension": ".py",
   "mimetype": "text/x-python",
   "name": "python",
   "nbconvert_exporter": "python",
   "pygments_lexer": "ipython3",
   "version": "3.10.14"
  }
 },
 "nbformat": 4,
 "nbformat_minor": 5
}
