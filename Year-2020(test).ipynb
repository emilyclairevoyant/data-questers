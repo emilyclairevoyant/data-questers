{
 "cells": [
  {
   "cell_type": "code",
   "execution_count": 1,
   "id": "d9fcbd92-652f-4552-9744-fa2215450cbe",
   "metadata": {},
   "outputs": [],
   "source": [
    "# Dependencies\n",
    "import requests\n",
    "import json\n",
    "from pprint import pprint\n",
    "import pandas as pd\n",
    "from config_api import aqapi_key\n",
    "import matplotlib.pyplot as plt\n",
    "\n",
    "# Import the API key\n",
    "#api_key = 'cb503ec3147e999a13e96259130ed78081483d6b'\n",
    "city = 'Newark'\n",
    "url = f'https://api.waqi.info/feed/{city}/?token={aqapi_key}'"
   ]
  },
  {
   "cell_type": "code",
   "execution_count": 2,
   "id": "66030082-3144-40c2-b991-71b152cbfff3",
   "metadata": {},
   "outputs": [],
   "source": [
    "air_quality = requests.get(url).json()"
   ]
  },
  {
   "cell_type": "code",
   "execution_count": 3,
   "id": "4cf3a8e8-5566-4450-a563-d703505294d4",
   "metadata": {},
   "outputs": [
    {
     "name": "stdout",
     "output_type": "stream",
     "text": [
      "{'aqi': 26,\n",
      " 'attributions': [{'logo': 'US-NJDEC.png',\n",
      "                   'name': 'NJDEP/DAQ - New Jersey Department of Environmental '\n",
      "                           'Protection - Division of Air Quality',\n",
      "                   'url': 'http://www.nj.gov/dep/daq/'},\n",
      "                  {'name': 'Air Now - US EPA', 'url': 'http://www.airnow.gov/'},\n",
      "                  {'name': 'World Air Quality Index Project',\n",
      "                   'url': 'https://waqi.info/'}],\n",
      " 'city': {'geo': [40.72102, -74.1928],\n",
      "          'location': '',\n",
      "          'name': 'Newark Firehouse, NewJersey, USA',\n",
      "          'url': 'https://aqicn.org/city/usa/newjersey/newark-firehouse'},\n",
      " 'debug': {'sync': '2022-09-26T20:36:54+09:00'},\n",
      " 'dominentpol': 'pm25',\n",
      " 'forecast': {'daily': {'o3': [{'avg': 11,\n",
      "                                'day': '2022-09-24',\n",
      "                                'max': 18,\n",
      "                                'min': 7},\n",
      "                               {'avg': 10,\n",
      "                                'day': '2022-09-25',\n",
      "                                'max': 24,\n",
      "                                'min': 3},\n",
      "                               {'avg': 8,\n",
      "                                'day': '2022-09-26',\n",
      "                                'max': 19,\n",
      "                                'min': 4},\n",
      "                               {'avg': 8,\n",
      "                                'day': '2022-09-27',\n",
      "                                'max': 20,\n",
      "                                'min': 2},\n",
      "                               {'avg': 5,\n",
      "                                'day': '2022-09-28',\n",
      "                                'max': 12,\n",
      "                                'min': 2},\n",
      "                               {'avg': 9,\n",
      "                                'day': '2022-09-29',\n",
      "                                'max': 16,\n",
      "                                'min': 4},\n",
      "                               {'avg': 7,\n",
      "                                'day': '2022-09-30',\n",
      "                                'max': 21,\n",
      "                                'min': 4}],\n",
      "                        'pm10': [{'avg': 4,\n",
      "                                  'day': '2022-09-24',\n",
      "                                  'max': 7,\n",
      "                                  'min': 1},\n",
      "                                 {'avg': 12,\n",
      "                                  'day': '2022-09-25',\n",
      "                                  'max': 17,\n",
      "                                  'min': 7},\n",
      "                                 {'avg': 9,\n",
      "                                  'day': '2022-09-26',\n",
      "                                  'max': 11,\n",
      "                                  'min': 5},\n",
      "                                 {'avg': 9,\n",
      "                                  'day': '2022-09-27',\n",
      "                                  'max': 12,\n",
      "                                  'min': 4},\n",
      "                                 {'avg': 5,\n",
      "                                  'day': '2022-09-28',\n",
      "                                  'max': 7,\n",
      "                                  'min': 3},\n",
      "                                 {'avg': 3,\n",
      "                                  'day': '2022-09-29',\n",
      "                                  'max': 4,\n",
      "                                  'min': 2},\n",
      "                                 {'avg': 7,\n",
      "                                  'day': '2022-09-30',\n",
      "                                  'max': 15,\n",
      "                                  'min': 3}],\n",
      "                        'pm25': [{'avg': 9,\n",
      "                                  'day': '2022-09-24',\n",
      "                                  'max': 18,\n",
      "                                  'min': 3},\n",
      "                                 {'avg': 42,\n",
      "                                  'day': '2022-09-25',\n",
      "                                  'max': 53,\n",
      "                                  'min': 19},\n",
      "                                 {'avg': 30,\n",
      "                                  'day': '2022-09-26',\n",
      "                                  'max': 40,\n",
      "                                  'min': 14},\n",
      "                                 {'avg': 23,\n",
      "                                  'day': '2022-09-27',\n",
      "                                  'max': 34,\n",
      "                                  'min': 13},\n",
      "                                 {'avg': 12,\n",
      "                                  'day': '2022-09-28',\n",
      "                                  'max': 19,\n",
      "                                  'min': 7},\n",
      "                                 {'avg': 5,\n",
      "                                  'day': '2022-09-29',\n",
      "                                  'max': 8,\n",
      "                                  'min': 3},\n",
      "                                 {'avg': 17,\n",
      "                                  'day': '2022-09-30',\n",
      "                                  'max': 43,\n",
      "                                  'min': 6}],\n",
      "                        'uvi': [{'avg': 0,\n",
      "                                 'day': '2022-09-25',\n",
      "                                 'max': 0,\n",
      "                                 'min': 0},\n",
      "                                {'avg': 1,\n",
      "                                 'day': '2022-09-26',\n",
      "                                 'max': 5,\n",
      "                                 'min': 0},\n",
      "                                {'avg': 1,\n",
      "                                 'day': '2022-09-27',\n",
      "                                 'max': 5,\n",
      "                                 'min': 0},\n",
      "                                {'avg': 1,\n",
      "                                 'day': '2022-09-28',\n",
      "                                 'max': 3,\n",
      "                                 'min': 0},\n",
      "                                {'avg': 1,\n",
      "                                 'day': '2022-09-29',\n",
      "                                 'max': 5,\n",
      "                                 'min': 0},\n",
      "                                {'avg': 1,\n",
      "                                 'day': '2022-09-30',\n",
      "                                 'max': 5,\n",
      "                                 'min': 0}]}},\n",
      " 'iaqi': {'co': {'v': 1.2},\n",
      "          'h': {'v': 92.5},\n",
      "          'no2': {'v': 15.8},\n",
      "          'o3': {'v': 6.4},\n",
      "          'p': {'v': 1005.4},\n",
      "          'pm25': {'v': 26},\n",
      "          't': {'v': 13.6},\n",
      "          'w': {'v': 0.5},\n",
      "          'wg': {'v': 1}},\n",
      " 'idx': 3562,\n",
      " 'time': {'iso': '2022-09-26T06:00:00-05:00',\n",
      "          's': '2022-09-26 06:00:00',\n",
      "          'tz': '-05:00',\n",
      "          'v': 1664172000}}\n"
     ]
    }
   ],
   "source": [
    "pprint(air_quality['data'])"
   ]
  },
  {
   "cell_type": "code",
   "execution_count": 4,
   "id": "cba4f354-165b-4257-bf96-5e7c9028fb87",
   "metadata": {},
   "outputs": [],
   "source": [
    "import calplot"
   ]
  },
  {
   "cell_type": "code",
   "execution_count": 5,
   "id": "48d8ae9e-3a0e-46a5-a9e1-22ecfd44419b",
   "metadata": {},
   "outputs": [],
   "source": [
    "import warnings\n",
    "warnings.filterwarnings(\"ignore\")"
   ]
  },
  {
   "cell_type": "raw",
   "id": "f79592b7-4097-4645-832b-ab664d70aa6e",
   "metadata": {},
   "source": [
    "EPA API"
   ]
  },
  {
   "cell_type": "code",
   "execution_count": 6,
   "id": "6527419c-6b9f-446f-805d-1759d40d30ee",
   "metadata": {
    "scrolled": true
   },
   "outputs": [
    {
     "name": "stdout",
     "output_type": "stream",
     "text": [
      "{'Data': [{'code': '01', 'value_represented': 'Alabama'},\n",
      "          {'code': '02', 'value_represented': 'Alaska'},\n",
      "          {'code': '04', 'value_represented': 'Arizona'},\n",
      "          {'code': '05', 'value_represented': 'Arkansas'},\n",
      "          {'code': '06', 'value_represented': 'California'},\n",
      "          {'code': '08', 'value_represented': 'Colorado'},\n",
      "          {'code': '09', 'value_represented': 'Connecticut'},\n",
      "          {'code': '10', 'value_represented': 'Delaware'},\n",
      "          {'code': '11', 'value_represented': 'District Of Columbia'},\n",
      "          {'code': '12', 'value_represented': 'Florida'},\n",
      "          {'code': '13', 'value_represented': 'Georgia'},\n",
      "          {'code': '15', 'value_represented': 'Hawaii'},\n",
      "          {'code': '16', 'value_represented': 'Idaho'},\n",
      "          {'code': '17', 'value_represented': 'Illinois'},\n",
      "          {'code': '18', 'value_represented': 'Indiana'},\n",
      "          {'code': '19', 'value_represented': 'Iowa'},\n",
      "          {'code': '20', 'value_represented': 'Kansas'},\n",
      "          {'code': '21', 'value_represented': 'Kentucky'},\n",
      "          {'code': '22', 'value_represented': 'Louisiana'},\n",
      "          {'code': '23', 'value_represented': 'Maine'},\n",
      "          {'code': '24', 'value_represented': 'Maryland'},\n",
      "          {'code': '25', 'value_represented': 'Massachusetts'},\n",
      "          {'code': '26', 'value_represented': 'Michigan'},\n",
      "          {'code': '27', 'value_represented': 'Minnesota'},\n",
      "          {'code': '28', 'value_represented': 'Mississippi'},\n",
      "          {'code': '29', 'value_represented': 'Missouri'},\n",
      "          {'code': '30', 'value_represented': 'Montana'},\n",
      "          {'code': '31', 'value_represented': 'Nebraska'},\n",
      "          {'code': '32', 'value_represented': 'Nevada'},\n",
      "          {'code': '33', 'value_represented': 'New Hampshire'},\n",
      "          {'code': '34', 'value_represented': 'New Jersey'},\n",
      "          {'code': '35', 'value_represented': 'New Mexico'},\n",
      "          {'code': '36', 'value_represented': 'New York'},\n",
      "          {'code': '37', 'value_represented': 'North Carolina'},\n",
      "          {'code': '38', 'value_represented': 'North Dakota'},\n",
      "          {'code': '39', 'value_represented': 'Ohio'},\n",
      "          {'code': '40', 'value_represented': 'Oklahoma'},\n",
      "          {'code': '41', 'value_represented': 'Oregon'},\n",
      "          {'code': '42', 'value_represented': 'Pennsylvania'},\n",
      "          {'code': '44', 'value_represented': 'Rhode Island'},\n",
      "          {'code': '45', 'value_represented': 'South Carolina'},\n",
      "          {'code': '46', 'value_represented': 'South Dakota'},\n",
      "          {'code': '47', 'value_represented': 'Tennessee'},\n",
      "          {'code': '48', 'value_represented': 'Texas'},\n",
      "          {'code': '49', 'value_represented': 'Utah'},\n",
      "          {'code': '50', 'value_represented': 'Vermont'},\n",
      "          {'code': '51', 'value_represented': 'Virginia'},\n",
      "          {'code': '53', 'value_represented': 'Washington'},\n",
      "          {'code': '54', 'value_represented': 'West Virginia'},\n",
      "          {'code': '55', 'value_represented': 'Wisconsin'},\n",
      "          {'code': '56', 'value_represented': 'Wyoming'},\n",
      "          {'code': '66', 'value_represented': 'Guam'},\n",
      "          {'code': '72', 'value_represented': 'Puerto Rico'},\n",
      "          {'code': '78', 'value_represented': 'Virgin Islands'},\n",
      "          {'code': '80', 'value_represented': 'Country Of Mexico'},\n",
      "          {'code': 'CC', 'value_represented': 'Canada'}],\n",
      " 'Header': [{'request_time': '2024-08-09T16:00:27-04:00',\n",
      "             'rows': 56,\n",
      "             'status': 'Success',\n",
      "             'url': 'https://aqs.epa.gov/data/api/list/states?email=brendandoucette2021@gmail.com&key=bolecat29'}]}\n"
     ]
    }
   ],
   "source": [
    "#EXAMPLE\n",
    "#https://aqs.epa.gov/data/api/annualData/byState?email=test@aqs.api&key=test&param=45201&bdate=19950515&edate=19950515&state=37\n",
    "api_key = 'bolecat29'\n",
    "email = 'brendandoucette2021@gmail.com'\n",
    "url = f'https://aqs.epa.gov/data/api/list/states?email={email}&key={api_key}'\n",
    "response = requests.get(url).json()\n",
    "pprint(response)"
   ]
  },
  {
   "cell_type": "code",
   "execution_count": 7,
   "id": "0372bc99-f6d1-400c-ac2a-e33ef259abfa",
   "metadata": {},
   "outputs": [
    {
     "name": "stdout",
     "output_type": "stream",
     "text": [
      "{'Data': [{'field_description': 'A short numberic or character \"code\" used to '\n",
      "                                'represent something else in the database.  '\n",
      "                                'Used to make data entry easier.  For example, '\n",
      "                                'state_code 01 represents Alabama.',\n",
      "           'field_name': 'code'},\n",
      "          {'field_description': None, 'field_name': 'value_represented'}],\n",
      " 'Header': [{'request_time': '2024-08-09T16:00:27-04:00',\n",
      "             'rows': 2,\n",
      "             'status': 'Success',\n",
      "             'url': 'https://aqs.epa.gov/data/api/metaData/fieldsByService?email=brendandoucette2021@gmail.com&key=bolecat29&service=list'}]}\n"
     ]
    }
   ],
   "source": [
    "api_key = 'bolecat29'\n",
    "email = 'brendandoucette2021@gmail.com'\n",
    "url = f'https://aqs.epa.gov/data/api/metaData/fieldsByService?email={email}&key={api_key}&service=list'\n",
    "response = requests.get(url).json()\n",
    "pprint(response)"
   ]
  },
  {
   "cell_type": "code",
   "execution_count": 8,
   "id": "3ebc1703-ad4f-465d-ab42-3dd93f51abf7",
   "metadata": {},
   "outputs": [
    {
     "name": "stdout",
     "output_type": "stream",
     "text": [
      "{'Data': [{'code': '001', 'value_represented': 'Atlantic'},\n",
      "          {'code': '003', 'value_represented': 'Bergen'},\n",
      "          {'code': '005', 'value_represented': 'Burlington'},\n",
      "          {'code': '007', 'value_represented': 'Camden'},\n",
      "          {'code': '009', 'value_represented': 'Cape May'},\n",
      "          {'code': '011', 'value_represented': 'Cumberland'},\n",
      "          {'code': '013', 'value_represented': 'Essex'},\n",
      "          {'code': '015', 'value_represented': 'Gloucester'},\n",
      "          {'code': '017', 'value_represented': 'Hudson'},\n",
      "          {'code': '019', 'value_represented': 'Hunterdon'},\n",
      "          {'code': '021', 'value_represented': 'Mercer'},\n",
      "          {'code': '023', 'value_represented': 'Middlesex'},\n",
      "          {'code': '025', 'value_represented': 'Monmouth'},\n",
      "          {'code': '027', 'value_represented': 'Morris'},\n",
      "          {'code': '029', 'value_represented': 'Ocean'},\n",
      "          {'code': '031', 'value_represented': 'Passaic'},\n",
      "          {'code': '033', 'value_represented': 'Salem'},\n",
      "          {'code': '035', 'value_represented': 'Somerset'},\n",
      "          {'code': '037', 'value_represented': 'Sussex'},\n",
      "          {'code': '039', 'value_represented': 'Union'},\n",
      "          {'code': '041', 'value_represented': 'Warren'}],\n",
      " 'Header': [{'request_time': '2024-08-09T16:00:28-04:00',\n",
      "             'rows': 21,\n",
      "             'status': 'Success',\n",
      "             'url': 'https://aqs.epa.gov/data/api/list/countiesByState?email=brendandoucette2021@gmail.com&key=bolecat29&state=34'}]}\n"
     ]
    }
   ],
   "source": [
    "api_key = 'bolecat29'\n",
    "email = 'brendandoucette2021@gmail.com'\n",
    "url = f'https://aqs.epa.gov/data/api/list/countiesByState?email={email}&key={api_key}&state=34'\n",
    "response = requests.get(url).json()\n",
    "pprint(response)"
   ]
  },
  {
   "cell_type": "code",
   "execution_count": 9,
   "id": "87c5861b-e219-46a3-95ad-1ee39b2da114",
   "metadata": {
    "scrolled": true
   },
   "outputs": [
    {
     "name": "stdout",
     "output_type": "stream",
     "text": [
      "{'Data': [{'code': '14129', 'value_represented': 'Lead (TSP) LC'},\n",
      "          {'code': '42101', 'value_represented': 'Carbon monoxide'},\n",
      "          {'code': '42401', 'value_represented': 'Sulfur dioxide'},\n",
      "          {'code': '42602', 'value_represented': 'Nitrogen dioxide (NO2)'},\n",
      "          {'code': '44201', 'value_represented': 'Ozone'},\n",
      "          {'code': '81102', 'value_represented': 'PM10 Total 0-10um STP'},\n",
      "          {'code': '85129', 'value_represented': 'Lead PM10 LC FRM/FEM'},\n",
      "          {'code': '88101', 'value_represented': 'PM2.5 - Local Conditions'}],\n",
      " 'Header': [{'request_time': '2024-08-09T16:00:28-04:00',\n",
      "             'rows': 8,\n",
      "             'status': 'Success',\n",
      "             'url': 'https://aqs.epa.gov/data/api/list/parametersByClass?email=brendandoucette2021@gmail.com&key=bolecat29&pc=CRITERIA'}]}\n"
     ]
    }
   ],
   "source": [
    "api_key = 'bolecat29'\n",
    "email = 'brendandoucette2021@gmail.com'\n",
    "url = f'https://aqs.epa.gov/data/api/list/parametersByClass?email={email}&key={api_key}&pc=CRITERIA'\n",
    "response = requests.get(url).json()\n",
    "pprint(response)"
   ]
  },
  {
   "cell_type": "code",
   "execution_count": 10,
   "id": "f8e63a20-3fed-4adc-afe9-fd57f0890be1",
   "metadata": {},
   "outputs": [
    {
     "name": "stdout",
     "output_type": "stream",
     "text": [
      "{'arithmetic_mean': 8.473611,\n",
      " 'cbsa': 'Philadelphia-Camden-Wilmington, PA-NJ-DE-MD',\n",
      " 'cbsa_code': '37980',\n",
      " 'certification_indicator': 'Requested but denied',\n",
      " 'city': 'Camden',\n",
      " 'county': 'Camden',\n",
      " 'county_code': '007',\n",
      " 'date_of_last_change': '2024-08-07',\n",
      " 'datum': 'NAD83',\n",
      " 'event_type': 'No Events',\n",
      " 'exceptional_data_count': 0,\n",
      " 'fiftieth_percentile': 7.6,\n",
      " 'first_max_datetime': '2020-12-11 00:00',\n",
      " 'first_max_n_o_datetime': None,\n",
      " 'first_max_nonoverlap_value': None,\n",
      " 'first_max_value': 20.6,\n",
      " 'fourth_max_datetime': '2020-09-24 00:00',\n",
      " 'fourth_max_value': 15.9,\n",
      " 'latitude': 39.934559,\n",
      " 'local_site_name': 'Camden Spruce Street',\n",
      " 'longitude': -75.125219,\n",
      " 'method': 'R & P Model 2025 PM-2.5 Sequential Air Sampler w/VSCC - '\n",
      "           'Gravimetric',\n",
      " 'metric_used': 'Daily Mean',\n",
      " 'ninetieth_percentile': 12.6,\n",
      " 'ninety_eighth_percentile': 19.5,\n",
      " 'ninety_fifth_percentile': 15.9,\n",
      " 'ninety_ninth_percentile': 20.6,\n",
      " 'null_observation_count': 2,\n",
      " 'observation_count': 72,\n",
      " 'observation_percent': 59.0,\n",
      " 'parameter': 'PM2.5 - Local Conditions',\n",
      " 'parameter_code': '88101',\n",
      " 'poc': 1,\n",
      " 'pollutant_standard': 'PM25 24-hour 2006',\n",
      " 'primary_exceedance_count': 0,\n",
      " 'required_day_count': 122,\n",
      " 'sample_duration': '24 HOUR',\n",
      " 'sample_duration_code': '7',\n",
      " 'second_max_datetime': '2020-08-25 00:00',\n",
      " 'second_max_n_o_datetime': None,\n",
      " 'second_max_nonoverlap_value': None,\n",
      " 'second_max_value': 19.5,\n",
      " 'secondary_exceedance_count': 0,\n",
      " 'seventy_fifth_percentile': 10.6,\n",
      " 'site_address': '266-298 Spruce Street',\n",
      " 'site_number': '0002',\n",
      " 'standard_deviation': 3.89626,\n",
      " 'state': 'New Jersey',\n",
      " 'state_code': '34',\n",
      " 'tenth_percentile': 4.7,\n",
      " 'third_max_datetime': '2020-12-20 00:00',\n",
      " 'third_max_value': 18.5,\n",
      " 'units_of_measure': 'Micrograms/cubic meter (LC)',\n",
      " 'valid_day_count': 72,\n",
      " 'validity_indicator': 'N',\n",
      " 'year': 2020}\n"
     ]
    }
   ],
   "source": [
    "api_key = 'bolecat29'\n",
    "email = 'brendandoucette2021@gmail.com'\n",
    "try_url = f'https://aqs.epa.gov/data/api/annualData/byCounty?email={email}&key={api_key}&param=88101&bdate=20200101&edate=20200229&state=34&county=007'\n",
    "response = requests.get(try_url).json()\n",
    "pprint(response['Data'][0])"
   ]
  },
  {
   "cell_type": "code",
   "execution_count": 11,
   "id": "abad789a-a62a-4867-a689-9aaa6181e013",
   "metadata": {},
   "outputs": [
    {
     "name": "stdout",
     "output_type": "stream",
     "text": [
      "9\n"
     ]
    }
   ],
   "source": [
    "#https://aqs.epa.gov/data/api/annualData/byState?email=test@aqs.api&key=test&param=45201&bdate=19950515&edate=19950515&state=37\n",
    "api_key = 'bolecat29'\n",
    "email = 'brendandoucette2021@gmail.com'\n",
    "#url = f'https://aqs.epa.gov/data/api/list/states?email={email}&key={api_key}'\n",
    "url = f'https://aqs.epa.gov/data/api/dailyData/bySite?email={email}&key={api_key}&param=88101&bdate=20200102&edate=20200102&state=34&county=007&site=0002'\n",
    "response = requests.get(url).json()\n",
    "pprint(len(response['Data']))"
   ]
  },
  {
   "cell_type": "code",
   "execution_count": 12,
   "id": "8f71b076-f02e-476c-9180-13a1cdfdd8c4",
   "metadata": {},
   "outputs": [
    {
     "data": {
      "text/html": [
       "<div>\n",
       "<style scoped>\n",
       "    .dataframe tbody tr th:only-of-type {\n",
       "        vertical-align: middle;\n",
       "    }\n",
       "\n",
       "    .dataframe tbody tr th {\n",
       "        vertical-align: top;\n",
       "    }\n",
       "\n",
       "    .dataframe thead th {\n",
       "        text-align: right;\n",
       "    }\n",
       "</style>\n",
       "<table border=\"1\" class=\"dataframe\">\n",
       "  <thead>\n",
       "    <tr style=\"text-align: right;\">\n",
       "      <th></th>\n",
       "      <th>State Name</th>\n",
       "      <th>county Name</th>\n",
       "      <th>State Code</th>\n",
       "      <th>County Code</th>\n",
       "      <th>Date</th>\n",
       "      <th>AQI</th>\n",
       "      <th>Category</th>\n",
       "      <th>Defining Parameter</th>\n",
       "      <th>Defining Site</th>\n",
       "      <th>Number of Sites Reporting</th>\n",
       "    </tr>\n",
       "  </thead>\n",
       "  <tbody>\n",
       "    <tr>\n",
       "      <th>0</th>\n",
       "      <td>Alabama</td>\n",
       "      <td>Baldwin</td>\n",
       "      <td>1</td>\n",
       "      <td>3</td>\n",
       "      <td>2020-01-01</td>\n",
       "      <td>48</td>\n",
       "      <td>Good</td>\n",
       "      <td>PM2.5</td>\n",
       "      <td>01-003-0010</td>\n",
       "      <td>1</td>\n",
       "    </tr>\n",
       "    <tr>\n",
       "      <th>1</th>\n",
       "      <td>Alabama</td>\n",
       "      <td>Baldwin</td>\n",
       "      <td>1</td>\n",
       "      <td>3</td>\n",
       "      <td>2020-01-04</td>\n",
       "      <td>13</td>\n",
       "      <td>Good</td>\n",
       "      <td>PM2.5</td>\n",
       "      <td>01-003-0010</td>\n",
       "      <td>1</td>\n",
       "    </tr>\n",
       "    <tr>\n",
       "      <th>2</th>\n",
       "      <td>Alabama</td>\n",
       "      <td>Baldwin</td>\n",
       "      <td>1</td>\n",
       "      <td>3</td>\n",
       "      <td>2020-01-07</td>\n",
       "      <td>14</td>\n",
       "      <td>Good</td>\n",
       "      <td>PM2.5</td>\n",
       "      <td>01-003-0010</td>\n",
       "      <td>1</td>\n",
       "    </tr>\n",
       "    <tr>\n",
       "      <th>3</th>\n",
       "      <td>Alabama</td>\n",
       "      <td>Baldwin</td>\n",
       "      <td>1</td>\n",
       "      <td>3</td>\n",
       "      <td>2020-01-10</td>\n",
       "      <td>39</td>\n",
       "      <td>Good</td>\n",
       "      <td>PM2.5</td>\n",
       "      <td>01-003-0010</td>\n",
       "      <td>1</td>\n",
       "    </tr>\n",
       "    <tr>\n",
       "      <th>4</th>\n",
       "      <td>Alabama</td>\n",
       "      <td>Baldwin</td>\n",
       "      <td>1</td>\n",
       "      <td>3</td>\n",
       "      <td>2020-01-13</td>\n",
       "      <td>29</td>\n",
       "      <td>Good</td>\n",
       "      <td>PM2.5</td>\n",
       "      <td>01-003-0010</td>\n",
       "      <td>1</td>\n",
       "    </tr>\n",
       "  </tbody>\n",
       "</table>\n",
       "</div>"
      ],
      "text/plain": [
       "  State Name county Name  State Code  County Code        Date  AQI Category  \\\n",
       "0    Alabama     Baldwin           1            3  2020-01-01   48     Good   \n",
       "1    Alabama     Baldwin           1            3  2020-01-04   13     Good   \n",
       "2    Alabama     Baldwin           1            3  2020-01-07   14     Good   \n",
       "3    Alabama     Baldwin           1            3  2020-01-10   39     Good   \n",
       "4    Alabama     Baldwin           1            3  2020-01-13   29     Good   \n",
       "\n",
       "  Defining Parameter Defining Site  Number of Sites Reporting  \n",
       "0              PM2.5   01-003-0010                          1  \n",
       "1              PM2.5   01-003-0010                          1  \n",
       "2              PM2.5   01-003-0010                          1  \n",
       "3              PM2.5   01-003-0010                          1  \n",
       "4              PM2.5   01-003-0010                          1  "
      ]
     },
     "execution_count": 12,
     "metadata": {},
     "output_type": "execute_result"
    }
   ],
   "source": [
    "usa_2020 = pd.read_csv('Resources/daily_aqi_by_county_2020.csv')\n",
    "usa_2020.head()"
   ]
  },
  {
   "cell_type": "code",
   "execution_count": 13,
   "id": "8c9ec6fb-ac5a-4f49-bf9a-6a3cdcd77ceb",
   "metadata": {},
   "outputs": [
    {
     "data": {
      "text/html": [
       "<div>\n",
       "<style scoped>\n",
       "    .dataframe tbody tr th:only-of-type {\n",
       "        vertical-align: middle;\n",
       "    }\n",
       "\n",
       "    .dataframe tbody tr th {\n",
       "        vertical-align: top;\n",
       "    }\n",
       "\n",
       "    .dataframe thead th {\n",
       "        text-align: right;\n",
       "    }\n",
       "</style>\n",
       "<table border=\"1\" class=\"dataframe\">\n",
       "  <thead>\n",
       "    <tr style=\"text-align: right;\">\n",
       "      <th></th>\n",
       "      <th>State Name</th>\n",
       "      <th>county Name</th>\n",
       "      <th>State Code</th>\n",
       "      <th>County Code</th>\n",
       "      <th>Date</th>\n",
       "      <th>AQI</th>\n",
       "      <th>Category</th>\n",
       "      <th>Defining Parameter</th>\n",
       "      <th>Defining Site</th>\n",
       "      <th>Number of Sites Reporting</th>\n",
       "    </tr>\n",
       "  </thead>\n",
       "  <tbody>\n",
       "    <tr>\n",
       "      <th>170457</th>\n",
       "      <td>New Jersey</td>\n",
       "      <td>Atlantic</td>\n",
       "      <td>34</td>\n",
       "      <td>1</td>\n",
       "      <td>2020-01-01</td>\n",
       "      <td>24</td>\n",
       "      <td>Good</td>\n",
       "      <td>Ozone</td>\n",
       "      <td>34-001-0006</td>\n",
       "      <td>2</td>\n",
       "    </tr>\n",
       "    <tr>\n",
       "      <th>170458</th>\n",
       "      <td>New Jersey</td>\n",
       "      <td>Atlantic</td>\n",
       "      <td>34</td>\n",
       "      <td>1</td>\n",
       "      <td>2020-01-02</td>\n",
       "      <td>32</td>\n",
       "      <td>Good</td>\n",
       "      <td>PM2.5</td>\n",
       "      <td>34-001-0006</td>\n",
       "      <td>1</td>\n",
       "    </tr>\n",
       "    <tr>\n",
       "      <th>170459</th>\n",
       "      <td>New Jersey</td>\n",
       "      <td>Atlantic</td>\n",
       "      <td>34</td>\n",
       "      <td>1</td>\n",
       "      <td>2020-01-03</td>\n",
       "      <td>24</td>\n",
       "      <td>Good</td>\n",
       "      <td>Ozone</td>\n",
       "      <td>34-001-0006</td>\n",
       "      <td>1</td>\n",
       "    </tr>\n",
       "    <tr>\n",
       "      <th>170460</th>\n",
       "      <td>New Jersey</td>\n",
       "      <td>Atlantic</td>\n",
       "      <td>34</td>\n",
       "      <td>1</td>\n",
       "      <td>2020-01-04</td>\n",
       "      <td>33</td>\n",
       "      <td>Good</td>\n",
       "      <td>PM2.5</td>\n",
       "      <td>34-001-0006</td>\n",
       "      <td>2</td>\n",
       "    </tr>\n",
       "    <tr>\n",
       "      <th>170461</th>\n",
       "      <td>New Jersey</td>\n",
       "      <td>Atlantic</td>\n",
       "      <td>34</td>\n",
       "      <td>1</td>\n",
       "      <td>2020-01-05</td>\n",
       "      <td>27</td>\n",
       "      <td>Good</td>\n",
       "      <td>Ozone</td>\n",
       "      <td>34-001-0006</td>\n",
       "      <td>1</td>\n",
       "    </tr>\n",
       "    <tr>\n",
       "      <th>...</th>\n",
       "      <td>...</td>\n",
       "      <td>...</td>\n",
       "      <td>...</td>\n",
       "      <td>...</td>\n",
       "      <td>...</td>\n",
       "      <td>...</td>\n",
       "      <td>...</td>\n",
       "      <td>...</td>\n",
       "      <td>...</td>\n",
       "      <td>...</td>\n",
       "    </tr>\n",
       "    <tr>\n",
       "      <th>175924</th>\n",
       "      <td>New Jersey</td>\n",
       "      <td>Warren</td>\n",
       "      <td>34</td>\n",
       "      <td>41</td>\n",
       "      <td>2020-12-27</td>\n",
       "      <td>51</td>\n",
       "      <td>Moderate</td>\n",
       "      <td>PM2.5</td>\n",
       "      <td>34-041-0007</td>\n",
       "      <td>1</td>\n",
       "    </tr>\n",
       "    <tr>\n",
       "      <th>175925</th>\n",
       "      <td>New Jersey</td>\n",
       "      <td>Warren</td>\n",
       "      <td>34</td>\n",
       "      <td>41</td>\n",
       "      <td>2020-12-28</td>\n",
       "      <td>55</td>\n",
       "      <td>Moderate</td>\n",
       "      <td>PM2.5</td>\n",
       "      <td>34-041-0007</td>\n",
       "      <td>1</td>\n",
       "    </tr>\n",
       "    <tr>\n",
       "      <th>175926</th>\n",
       "      <td>New Jersey</td>\n",
       "      <td>Warren</td>\n",
       "      <td>34</td>\n",
       "      <td>41</td>\n",
       "      <td>2020-12-29</td>\n",
       "      <td>30</td>\n",
       "      <td>Good</td>\n",
       "      <td>Ozone</td>\n",
       "      <td>34-041-0007</td>\n",
       "      <td>1</td>\n",
       "    </tr>\n",
       "    <tr>\n",
       "      <th>175927</th>\n",
       "      <td>New Jersey</td>\n",
       "      <td>Warren</td>\n",
       "      <td>34</td>\n",
       "      <td>41</td>\n",
       "      <td>2020-12-30</td>\n",
       "      <td>27</td>\n",
       "      <td>Good</td>\n",
       "      <td>Ozone</td>\n",
       "      <td>34-041-0007</td>\n",
       "      <td>1</td>\n",
       "    </tr>\n",
       "    <tr>\n",
       "      <th>175928</th>\n",
       "      <td>New Jersey</td>\n",
       "      <td>Warren</td>\n",
       "      <td>34</td>\n",
       "      <td>41</td>\n",
       "      <td>2020-12-31</td>\n",
       "      <td>45</td>\n",
       "      <td>Good</td>\n",
       "      <td>PM2.5</td>\n",
       "      <td>34-041-0007</td>\n",
       "      <td>1</td>\n",
       "    </tr>\n",
       "  </tbody>\n",
       "</table>\n",
       "<p>5472 rows × 10 columns</p>\n",
       "</div>"
      ],
      "text/plain": [
       "        State Name county Name  State Code  County Code        Date  AQI  \\\n",
       "170457  New Jersey    Atlantic          34            1  2020-01-01   24   \n",
       "170458  New Jersey    Atlantic          34            1  2020-01-02   32   \n",
       "170459  New Jersey    Atlantic          34            1  2020-01-03   24   \n",
       "170460  New Jersey    Atlantic          34            1  2020-01-04   33   \n",
       "170461  New Jersey    Atlantic          34            1  2020-01-05   27   \n",
       "...            ...         ...         ...          ...         ...  ...   \n",
       "175924  New Jersey      Warren          34           41  2020-12-27   51   \n",
       "175925  New Jersey      Warren          34           41  2020-12-28   55   \n",
       "175926  New Jersey      Warren          34           41  2020-12-29   30   \n",
       "175927  New Jersey      Warren          34           41  2020-12-30   27   \n",
       "175928  New Jersey      Warren          34           41  2020-12-31   45   \n",
       "\n",
       "        Category Defining Parameter Defining Site  Number of Sites Reporting  \n",
       "170457      Good              Ozone   34-001-0006                          2  \n",
       "170458      Good              PM2.5   34-001-0006                          1  \n",
       "170459      Good              Ozone   34-001-0006                          1  \n",
       "170460      Good              PM2.5   34-001-0006                          2  \n",
       "170461      Good              Ozone   34-001-0006                          1  \n",
       "...          ...                ...           ...                        ...  \n",
       "175924  Moderate              PM2.5   34-041-0007                          1  \n",
       "175925  Moderate              PM2.5   34-041-0007                          1  \n",
       "175926      Good              Ozone   34-041-0007                          1  \n",
       "175927      Good              Ozone   34-041-0007                          1  \n",
       "175928      Good              PM2.5   34-041-0007                          1  \n",
       "\n",
       "[5472 rows x 10 columns]"
      ]
     },
     "execution_count": 13,
     "metadata": {},
     "output_type": "execute_result"
    }
   ],
   "source": [
    "nj_2020 = usa_2020.loc[usa_2020['State Name'] == 'New Jersey', :]\n",
    "nj_2020"
   ]
  },
  {
   "cell_type": "code",
   "execution_count": 14,
   "id": "7054b23b-af99-4edc-8ead-f2c3d7263259",
   "metadata": {},
   "outputs": [
    {
     "data": {
      "text/plain": [
       "county Name\n",
       "Camden        366\n",
       "Essex         366\n",
       "Hudson        366\n",
       "Mercer        366\n",
       "Middlesex     366\n",
       "Morris        366\n",
       "Union         366\n",
       "Cumberland    365\n",
       "Bergen        364\n",
       "Hunterdon     364\n",
       "Warren        361\n",
       "Atlantic      359\n",
       "Ocean         356\n",
       "Passaic       262\n",
       "Gloucester    253\n",
       "Monmouth      226\n",
       "Name: count, dtype: int64"
      ]
     },
     "execution_count": 14,
     "metadata": {},
     "output_type": "execute_result"
    }
   ],
   "source": [
    "nj_2020['county Name'].value_counts()"
   ]
  },
  {
   "cell_type": "code",
   "execution_count": 15,
   "id": "16a7954b-2c19-46c1-9fb8-81b30a87aea8",
   "metadata": {},
   "outputs": [
    {
     "name": "stdout",
     "output_type": "stream",
     "text": [
      "<class 'pandas.core.frame.DataFrame'>\n",
      "Index: 5472 entries, 170457 to 175928\n",
      "Data columns (total 10 columns):\n",
      " #   Column                     Non-Null Count  Dtype \n",
      "---  ------                     --------------  ----- \n",
      " 0   State Name                 5472 non-null   object\n",
      " 1   county Name                5472 non-null   object\n",
      " 2   State Code                 5472 non-null   int64 \n",
      " 3   County Code                5472 non-null   int64 \n",
      " 4   Date                       5472 non-null   object\n",
      " 5   AQI                        5472 non-null   int64 \n",
      " 6   Category                   5472 non-null   object\n",
      " 7   Defining Parameter         5472 non-null   object\n",
      " 8   Defining Site              5472 non-null   object\n",
      " 9   Number of Sites Reporting  5472 non-null   int64 \n",
      "dtypes: int64(4), object(6)\n",
      "memory usage: 470.2+ KB\n"
     ]
    }
   ],
   "source": [
    "nj_2020.info()"
   ]
  },
  {
   "cell_type": "code",
   "execution_count": 16,
   "id": "7f1a7ec9-c406-49b3-bb07-b681c5871537",
   "metadata": {},
   "outputs": [
    {
     "name": "stdout",
     "output_type": "stream",
     "text": [
      "['Atlantic' 'Bergen' 'Camden' 'Cumberland' 'Essex' 'Gloucester' 'Hudson'\n",
      " 'Hunterdon' 'Mercer' 'Middlesex' 'Monmouth' 'Morris' 'Ocean' 'Passaic'\n",
      " 'Union' 'Warren']\n",
      "16\n"
     ]
    }
   ],
   "source": [
    "print(nj_2020['county Name'].unique())\n",
    "print(nj_2020['county Name'].nunique())"
   ]
  },
  {
   "cell_type": "code",
   "execution_count": 17,
   "id": "0de2c9dd-fb43-47bf-a85c-a3d6786489e4",
   "metadata": {},
   "outputs": [],
   "source": [
    "nj_2020_grouped = nj_2020.groupby(['county Name'])"
   ]
  },
  {
   "cell_type": "code",
   "execution_count": 18,
   "id": "47d588f9-b493-4aca-96cf-78d5427b1381",
   "metadata": {},
   "outputs": [
    {
     "data": {
      "text/plain": [
       "county Name\n",
       "Atlantic      35.194986\n",
       "Bergen        41.131868\n",
       "Camden        41.420765\n",
       "Cumberland    38.852055\n",
       "Essex         41.314208\n",
       "Gloucester    36.581028\n",
       "Hudson        39.439891\n",
       "Hunterdon     38.398352\n",
       "Mercer        39.819672\n",
       "Middlesex     39.237705\n",
       "Monmouth      37.765487\n",
       "Morris        35.581967\n",
       "Ocean         34.685393\n",
       "Passaic       36.366412\n",
       "Union         39.133880\n",
       "Warren        35.941828\n",
       "Name: AQI, dtype: float64"
      ]
     },
     "execution_count": 18,
     "metadata": {},
     "output_type": "execute_result"
    }
   ],
   "source": [
    "means = nj_2020_grouped[\"AQI\"].mean()\n",
    "means"
   ]
  },
  {
   "cell_type": "code",
   "execution_count": 19,
   "id": "77041fd0-74ca-4709-8faa-af9113cd1385",
   "metadata": {},
   "outputs": [
    {
     "data": {
      "text/plain": [
       "county Name\n",
       "Atlantic       90\n",
       "Bergen        119\n",
       "Camden         87\n",
       "Cumberland     71\n",
       "Essex         127\n",
       "Gloucester    101\n",
       "Hudson         90\n",
       "Hunterdon      85\n",
       "Mercer        112\n",
       "Middlesex     112\n",
       "Monmouth       93\n",
       "Morris         84\n",
       "Ocean          84\n",
       "Passaic       100\n",
       "Union         111\n",
       "Warren        100\n",
       "Name: AQI, dtype: int64"
      ]
     },
     "execution_count": 19,
     "metadata": {},
     "output_type": "execute_result"
    }
   ],
   "source": [
    "maxes = nj_2020_grouped[\"AQI\"].max()\n",
    "maxes"
   ]
  },
  {
   "cell_type": "code",
   "execution_count": 20,
   "id": "0cc19ddd-8cdd-4d7e-9cbb-87be929c2525",
   "metadata": {},
   "outputs": [
    {
     "data": {
      "text/plain": [
       "['Atlantic',\n",
       " 'Bergen',\n",
       " 'Camden',\n",
       " 'Cumberland',\n",
       " 'Essex',\n",
       " 'Gloucester',\n",
       " 'Hudson',\n",
       " 'Hunterdon',\n",
       " 'Mercer',\n",
       " 'Middlesex',\n",
       " 'Monmouth',\n",
       " 'Morris',\n",
       " 'Ocean',\n",
       " 'Passaic',\n",
       " 'Union',\n",
       " 'Warren']"
      ]
     },
     "execution_count": 20,
     "metadata": {},
     "output_type": "execute_result"
    }
   ],
   "source": [
    "names_maxes = [i for i in maxes.index]\n",
    "names_maxes"
   ]
  },
  {
   "cell_type": "code",
   "execution_count": 21,
   "id": "c7956885-78af-4cca-81c2-217efe6dc903",
   "metadata": {},
   "outputs": [],
   "source": [
    "max_date = []\n",
    "county_max = []\n",
    "max_value = []\n",
    "def_parameter = []\n",
    "for index, row in nj_2020.iterrows():\n",
    "    for name in names_maxes:\n",
    "        if row['county Name'] == name:\n",
    "            if row['AQI'] == maxes[f'{name}']:\n",
    "                max_date.append(row.name)\n",
    "                county_max.append(row['county Name'])\n",
    "                max_value.append(row['AQI'])\n",
    "                def_parameter.append(row['Defining Parameter'])"
   ]
  },
  {
   "cell_type": "code",
   "execution_count": 22,
   "id": "63d6a7fd-db47-4040-aebf-444d88e12933",
   "metadata": {},
   "outputs": [
    {
     "data": {
      "text/html": [
       "<div>\n",
       "<style scoped>\n",
       "    .dataframe tbody tr th:only-of-type {\n",
       "        vertical-align: middle;\n",
       "    }\n",
       "\n",
       "    .dataframe tbody tr th {\n",
       "        vertical-align: top;\n",
       "    }\n",
       "\n",
       "    .dataframe thead th {\n",
       "        text-align: right;\n",
       "    }\n",
       "</style>\n",
       "<table border=\"1\" class=\"dataframe\">\n",
       "  <thead>\n",
       "    <tr style=\"text-align: right;\">\n",
       "      <th></th>\n",
       "      <th>Date</th>\n",
       "      <th>County</th>\n",
       "      <th>AQI</th>\n",
       "      <th>Defining Parameter</th>\n",
       "    </tr>\n",
       "  </thead>\n",
       "  <tbody>\n",
       "    <tr>\n",
       "      <th>0</th>\n",
       "      <td>170611</td>\n",
       "      <td>Atlantic</td>\n",
       "      <td>90</td>\n",
       "      <td>Ozone</td>\n",
       "    </tr>\n",
       "    <tr>\n",
       "      <th>1</th>\n",
       "      <td>171036</td>\n",
       "      <td>Bergen</td>\n",
       "      <td>119</td>\n",
       "      <td>Ozone</td>\n",
       "    </tr>\n",
       "    <tr>\n",
       "      <th>2</th>\n",
       "      <td>171382</td>\n",
       "      <td>Camden</td>\n",
       "      <td>87</td>\n",
       "      <td>Ozone</td>\n",
       "    </tr>\n",
       "    <tr>\n",
       "      <th>3</th>\n",
       "      <td>171391</td>\n",
       "      <td>Camden</td>\n",
       "      <td>87</td>\n",
       "      <td>Ozone</td>\n",
       "    </tr>\n",
       "    <tr>\n",
       "      <th>4</th>\n",
       "      <td>171700</td>\n",
       "      <td>Cumberland</td>\n",
       "      <td>71</td>\n",
       "      <td>Ozone</td>\n",
       "    </tr>\n",
       "    <tr>\n",
       "      <th>5</th>\n",
       "      <td>171723</td>\n",
       "      <td>Cumberland</td>\n",
       "      <td>71</td>\n",
       "      <td>Ozone</td>\n",
       "    </tr>\n",
       "    <tr>\n",
       "      <th>6</th>\n",
       "      <td>171747</td>\n",
       "      <td>Cumberland</td>\n",
       "      <td>71</td>\n",
       "      <td>Ozone</td>\n",
       "    </tr>\n",
       "    <tr>\n",
       "      <th>7</th>\n",
       "      <td>172257</td>\n",
       "      <td>Essex</td>\n",
       "      <td>127</td>\n",
       "      <td>PM2.5</td>\n",
       "    </tr>\n",
       "    <tr>\n",
       "      <th>8</th>\n",
       "      <td>172405</td>\n",
       "      <td>Gloucester</td>\n",
       "      <td>101</td>\n",
       "      <td>Ozone</td>\n",
       "    </tr>\n",
       "    <tr>\n",
       "      <th>9</th>\n",
       "      <td>172733</td>\n",
       "      <td>Hudson</td>\n",
       "      <td>90</td>\n",
       "      <td>Ozone</td>\n",
       "    </tr>\n",
       "    <tr>\n",
       "      <th>10</th>\n",
       "      <td>173249</td>\n",
       "      <td>Hunterdon</td>\n",
       "      <td>85</td>\n",
       "      <td>PM2.5</td>\n",
       "    </tr>\n",
       "    <tr>\n",
       "      <th>11</th>\n",
       "      <td>173420</td>\n",
       "      <td>Mercer</td>\n",
       "      <td>112</td>\n",
       "      <td>Ozone</td>\n",
       "    </tr>\n",
       "    <tr>\n",
       "      <th>12</th>\n",
       "      <td>173786</td>\n",
       "      <td>Middlesex</td>\n",
       "      <td>112</td>\n",
       "      <td>Ozone</td>\n",
       "    </tr>\n",
       "    <tr>\n",
       "      <th>13</th>\n",
       "      <td>174116</td>\n",
       "      <td>Monmouth</td>\n",
       "      <td>93</td>\n",
       "      <td>Ozone</td>\n",
       "    </tr>\n",
       "    <tr>\n",
       "      <th>14</th>\n",
       "      <td>174378</td>\n",
       "      <td>Morris</td>\n",
       "      <td>84</td>\n",
       "      <td>Ozone</td>\n",
       "    </tr>\n",
       "    <tr>\n",
       "      <th>15</th>\n",
       "      <td>174784</td>\n",
       "      <td>Ocean</td>\n",
       "      <td>84</td>\n",
       "      <td>Ozone</td>\n",
       "    </tr>\n",
       "    <tr>\n",
       "      <th>16</th>\n",
       "      <td>175059</td>\n",
       "      <td>Passaic</td>\n",
       "      <td>100</td>\n",
       "      <td>Ozone</td>\n",
       "    </tr>\n",
       "    <tr>\n",
       "      <th>17</th>\n",
       "      <td>175548</td>\n",
       "      <td>Union</td>\n",
       "      <td>111</td>\n",
       "      <td>PM2.5</td>\n",
       "    </tr>\n",
       "    <tr>\n",
       "      <th>18</th>\n",
       "      <td>175918</td>\n",
       "      <td>Warren</td>\n",
       "      <td>100</td>\n",
       "      <td>PM2.5</td>\n",
       "    </tr>\n",
       "  </tbody>\n",
       "</table>\n",
       "</div>"
      ],
      "text/plain": [
       "      Date      County  AQI Defining Parameter\n",
       "0   170611    Atlantic   90              Ozone\n",
       "1   171036      Bergen  119              Ozone\n",
       "2   171382      Camden   87              Ozone\n",
       "3   171391      Camden   87              Ozone\n",
       "4   171700  Cumberland   71              Ozone\n",
       "5   171723  Cumberland   71              Ozone\n",
       "6   171747  Cumberland   71              Ozone\n",
       "7   172257       Essex  127              PM2.5\n",
       "8   172405  Gloucester  101              Ozone\n",
       "9   172733      Hudson   90              Ozone\n",
       "10  173249   Hunterdon   85              PM2.5\n",
       "11  173420      Mercer  112              Ozone\n",
       "12  173786   Middlesex  112              Ozone\n",
       "13  174116    Monmouth   93              Ozone\n",
       "14  174378      Morris   84              Ozone\n",
       "15  174784       Ocean   84              Ozone\n",
       "16  175059     Passaic  100              Ozone\n",
       "17  175548       Union  111              PM2.5\n",
       "18  175918      Warren  100              PM2.5"
      ]
     },
     "execution_count": 22,
     "metadata": {},
     "output_type": "execute_result"
    }
   ],
   "source": [
    "new_maxes = {'Date':[date for date in max_date], 'County':[county for county in county_max], 'AQI': [value for value in max_value], 'Defining Parameter': [param for param in def_parameter]}\n",
    "new_maxes_df = pd.DataFrame(new_maxes)\n",
    "new_maxes_df"
   ]
  },
  {
   "cell_type": "code",
   "execution_count": 23,
   "id": "ecbf87c6-12dc-468a-af03-d2d1ea0662c5",
   "metadata": {},
   "outputs": [
    {
     "ename": "NameError",
     "evalue": "name 'max_df' is not defined",
     "output_type": "error",
     "traceback": [
      "\u001b[1;31m---------------------------------------------------------------------------\u001b[0m",
      "\u001b[1;31mNameError\u001b[0m                                 Traceback (most recent call last)",
      "Cell \u001b[1;32mIn[23], line 5\u001b[0m\n\u001b[0;32m      1\u001b[0m \u001b[38;5;66;03m#max_df['Date'] = pd.to_datetime(max_df['Date'], format='%Y-%m-%d')\u001b[39;00m\n\u001b[0;32m      2\u001b[0m \u001b[38;5;66;03m#max_df = new_maxes_df.set_index('Date')\u001b[39;00m\n\u001b[0;32m      3\u001b[0m \u001b[38;5;66;03m#calplot.calplot(max_df['AQI'], cmap='Spectral_r')\u001b[39;00m\n\u001b[0;32m      4\u001b[0m \u001b[38;5;66;03m#max_df = max_df.reset_index()\u001b[39;00m\n\u001b[1;32m----> 5\u001b[0m \u001b[43mmax_df\u001b[49m\n",
      "\u001b[1;31mNameError\u001b[0m: name 'max_df' is not defined"
     ]
    }
   ],
   "source": [
    "#max_df['Date'] = pd.to_datetime(max_df['Date'], format='%Y-%m-%d')\n",
    "#max_df = new_maxes_df.set_index('Date')\n",
    "#calplot.calplot(max_df['AQI'], cmap='Spectral_r')\n",
    "#max_df = max_df.reset_index()\n",
    "max_df"
   ]
  },
  {
   "cell_type": "code",
   "execution_count": 30,
   "id": "234b11dc-d162-4d62-a4f2-1febb716c7c5",
   "metadata": {},
   "outputs": [
    {
     "data": {
      "text/plain": [
       "county Name\n",
       "Atlantic       2\n",
       "Bergen         0\n",
       "Camden        15\n",
       "Cumberland     0\n",
       "Essex          6\n",
       "Gloucester     8\n",
       "Hudson        15\n",
       "Hunterdon     17\n",
       "Mercer        16\n",
       "Middlesex     16\n",
       "Monmouth       0\n",
       "Morris         1\n",
       "Ocean          7\n",
       "Passaic        6\n",
       "Union          5\n",
       "Warren         1\n",
       "Name: AQI, dtype: int64"
      ]
     },
     "execution_count": 30,
     "metadata": {},
     "output_type": "execute_result"
    }
   ],
   "source": [
    "mins = nj_2020_grouped[\"AQI\"].min()\n",
    "mins"
   ]
  },
  {
   "cell_type": "code",
   "execution_count": 31,
   "id": "b0cbaaa5-f2ea-468c-85bd-950fe6f95d8d",
   "metadata": {},
   "outputs": [
    {
     "data": {
      "text/plain": [
       "['Atlantic',\n",
       " 'Bergen',\n",
       " 'Camden',\n",
       " 'Cumberland',\n",
       " 'Essex',\n",
       " 'Gloucester',\n",
       " 'Hudson',\n",
       " 'Hunterdon',\n",
       " 'Mercer',\n",
       " 'Middlesex',\n",
       " 'Monmouth',\n",
       " 'Morris',\n",
       " 'Ocean',\n",
       " 'Passaic',\n",
       " 'Union',\n",
       " 'Warren']"
      ]
     },
     "execution_count": 31,
     "metadata": {},
     "output_type": "execute_result"
    }
   ],
   "source": [
    "names_mins = [i for i in maxes.index]\n",
    "names_mins"
   ]
  },
  {
   "cell_type": "code",
   "execution_count": 32,
   "id": "668ff616-b7e3-4757-8fec-1dd13fbf8257",
   "metadata": {},
   "outputs": [],
   "source": [
    "min_date = []\n",
    "county_min = []\n",
    "min_value = []\n",
    "def_param = []\n",
    "for index, row in nj_2020.iterrows():\n",
    "    for name in names_mins:\n",
    "        if row['county Name'] == name:\n",
    "            if row['AQI'] == mins[f'{name}']:\n",
    "                min_date.append(row.name)\n",
    "                county_min.append(row['county Name'])\n",
    "                min_value.append(row['AQI'])\n",
    "                def_param.append(row['Defining Parameter'])"
   ]
  },
  {
   "cell_type": "code",
   "execution_count": 33,
   "id": "ba565603-2601-425f-8f5f-d40985be38d3",
   "metadata": {},
   "outputs": [
    {
     "data": {
      "text/html": [
       "<div>\n",
       "<style scoped>\n",
       "    .dataframe tbody tr th:only-of-type {\n",
       "        vertical-align: middle;\n",
       "    }\n",
       "\n",
       "    .dataframe tbody tr th {\n",
       "        vertical-align: top;\n",
       "    }\n",
       "\n",
       "    .dataframe thead th {\n",
       "        text-align: right;\n",
       "    }\n",
       "</style>\n",
       "<table border=\"1\" class=\"dataframe\">\n",
       "  <thead>\n",
       "    <tr style=\"text-align: right;\">\n",
       "      <th></th>\n",
       "      <th>Date</th>\n",
       "      <th>County</th>\n",
       "      <th>AQI</th>\n",
       "      <th>Defining Parameter</th>\n",
       "    </tr>\n",
       "  </thead>\n",
       "  <tbody>\n",
       "    <tr>\n",
       "      <th>0</th>\n",
       "      <td>170603</td>\n",
       "      <td>Atlantic</td>\n",
       "      <td>2</td>\n",
       "      <td>PM2.5</td>\n",
       "    </tr>\n",
       "    <tr>\n",
       "      <th>1</th>\n",
       "      <td>171173</td>\n",
       "      <td>Bergen</td>\n",
       "      <td>0</td>\n",
       "      <td>CO</td>\n",
       "    </tr>\n",
       "    <tr>\n",
       "      <th>2</th>\n",
       "      <td>171371</td>\n",
       "      <td>Camden</td>\n",
       "      <td>15</td>\n",
       "      <td>Ozone</td>\n",
       "    </tr>\n",
       "    <tr>\n",
       "      <th>3</th>\n",
       "      <td>171433</td>\n",
       "      <td>Camden</td>\n",
       "      <td>15</td>\n",
       "      <td>Ozone</td>\n",
       "    </tr>\n",
       "    <tr>\n",
       "      <th>4</th>\n",
       "      <td>171797</td>\n",
       "      <td>Cumberland</td>\n",
       "      <td>0</td>\n",
       "      <td>Ozone</td>\n",
       "    </tr>\n",
       "    <tr>\n",
       "      <th>5</th>\n",
       "      <td>172252</td>\n",
       "      <td>Essex</td>\n",
       "      <td>6</td>\n",
       "      <td>CO</td>\n",
       "    </tr>\n",
       "    <tr>\n",
       "      <th>6</th>\n",
       "      <td>172502</td>\n",
       "      <td>Gloucester</td>\n",
       "      <td>8</td>\n",
       "      <td>Ozone</td>\n",
       "    </tr>\n",
       "    <tr>\n",
       "      <th>7</th>\n",
       "      <td>172816</td>\n",
       "      <td>Hudson</td>\n",
       "      <td>15</td>\n",
       "      <td>NO2</td>\n",
       "    </tr>\n",
       "    <tr>\n",
       "      <th>8</th>\n",
       "      <td>173087</td>\n",
       "      <td>Hunterdon</td>\n",
       "      <td>17</td>\n",
       "      <td>Ozone</td>\n",
       "    </tr>\n",
       "    <tr>\n",
       "      <th>9</th>\n",
       "      <td>173559</td>\n",
       "      <td>Mercer</td>\n",
       "      <td>16</td>\n",
       "      <td>Ozone</td>\n",
       "    </tr>\n",
       "    <tr>\n",
       "      <th>10</th>\n",
       "      <td>173795</td>\n",
       "      <td>Middlesex</td>\n",
       "      <td>16</td>\n",
       "      <td>Ozone</td>\n",
       "    </tr>\n",
       "    <tr>\n",
       "      <th>11</th>\n",
       "      <td>174217</td>\n",
       "      <td>Monmouth</td>\n",
       "      <td>0</td>\n",
       "      <td>Ozone</td>\n",
       "    </tr>\n",
       "    <tr>\n",
       "      <th>12</th>\n",
       "      <td>174342</td>\n",
       "      <td>Morris</td>\n",
       "      <td>1</td>\n",
       "      <td>NO2</td>\n",
       "    </tr>\n",
       "    <tr>\n",
       "      <th>13</th>\n",
       "      <td>174609</td>\n",
       "      <td>Ocean</td>\n",
       "      <td>7</td>\n",
       "      <td>PM2.5</td>\n",
       "    </tr>\n",
       "    <tr>\n",
       "      <th>14</th>\n",
       "      <td>174947</td>\n",
       "      <td>Passaic</td>\n",
       "      <td>6</td>\n",
       "      <td>PM2.5</td>\n",
       "    </tr>\n",
       "    <tr>\n",
       "      <th>15</th>\n",
       "      <td>175333</td>\n",
       "      <td>Union</td>\n",
       "      <td>5</td>\n",
       "      <td>CO</td>\n",
       "    </tr>\n",
       "    <tr>\n",
       "      <th>16</th>\n",
       "      <td>175334</td>\n",
       "      <td>Union</td>\n",
       "      <td>5</td>\n",
       "      <td>CO</td>\n",
       "    </tr>\n",
       "    <tr>\n",
       "      <th>17</th>\n",
       "      <td>175671</td>\n",
       "      <td>Warren</td>\n",
       "      <td>1</td>\n",
       "      <td>NO2</td>\n",
       "    </tr>\n",
       "  </tbody>\n",
       "</table>\n",
       "</div>"
      ],
      "text/plain": [
       "      Date      County  AQI Defining Parameter\n",
       "0   170603    Atlantic    2              PM2.5\n",
       "1   171173      Bergen    0                 CO\n",
       "2   171371      Camden   15              Ozone\n",
       "3   171433      Camden   15              Ozone\n",
       "4   171797  Cumberland    0              Ozone\n",
       "5   172252       Essex    6                 CO\n",
       "6   172502  Gloucester    8              Ozone\n",
       "7   172816      Hudson   15                NO2\n",
       "8   173087   Hunterdon   17              Ozone\n",
       "9   173559      Mercer   16              Ozone\n",
       "10  173795   Middlesex   16              Ozone\n",
       "11  174217    Monmouth    0              Ozone\n",
       "12  174342      Morris    1                NO2\n",
       "13  174609       Ocean    7              PM2.5\n",
       "14  174947     Passaic    6              PM2.5\n",
       "15  175333       Union    5                 CO\n",
       "16  175334       Union    5                 CO\n",
       "17  175671      Warren    1                NO2"
      ]
     },
     "execution_count": 33,
     "metadata": {},
     "output_type": "execute_result"
    }
   ],
   "source": [
    "new_mins = {'Date':[date for date in min_date], 'County':[county for county in county_min], 'AQI': [value for value in min_value], 'Defining Parameter': [param for param in def_param]}\n",
    "mins_df = pd.DataFrame(new_mins)\n",
    "mins_df"
   ]
  },
  {
   "cell_type": "code",
   "execution_count": null,
   "id": "d44fabf7-3251-4f34-a69b-48d54433bf33",
   "metadata": {},
   "outputs": [],
   "source": [
    "counts = nj_2020_grouped['Defining Parameter'].value_counts()\n",
    "counts"
   ]
  },
  {
   "cell_type": "code",
   "execution_count": null,
   "id": "3ca159ea-9dff-4fd8-9b85-65d2c182e7d3",
   "metadata": {},
   "outputs": [],
   "source": [
    "counts_by_county = nj_2020_grouped['Defining Parameter'].count()\n",
    "counts_by_county"
   ]
  },
  {
   "cell_type": "code",
   "execution_count": null,
   "id": "178abf16-659a-4704-b267-ae2d1098ca0a",
   "metadata": {},
   "outputs": [],
   "source": []
  },
  {
   "cell_type": "code",
   "execution_count": null,
   "id": "b20e2ed1-781b-4481-b06e-f0d88253d306",
   "metadata": {},
   "outputs": [],
   "source": []
  },
  {
   "cell_type": "code",
   "execution_count": null,
   "id": "47afa927-5ef7-4f90-bec9-84d88431d82d",
   "metadata": {},
   "outputs": [],
   "source": [
    "nj_2020_grouped['Defining Site'].value_counts()"
   ]
  },
  {
   "cell_type": "code",
   "execution_count": null,
   "id": "9e5462b9-f3f2-4b10-afb6-e5db02b5138f",
   "metadata": {},
   "outputs": [],
   "source": [
    "camden = nj_2020.loc[nj_2020['county Name'] == 'Camden', :]\n",
    "camden.head()"
   ]
  },
  {
   "cell_type": "code",
   "execution_count": null,
   "id": "6b429b28-f392-45fe-af06-189614183fe3",
   "metadata": {},
   "outputs": [],
   "source": [
    "camden['Defining Site'].value_counts()"
   ]
  },
  {
   "cell_type": "code",
   "execution_count": null,
   "id": "8c62474b-32d2-4526-a824-ec7f217829b5",
   "metadata": {},
   "outputs": [],
   "source": [
    "x_axis = [i for i in means]\n",
    "x_axis"
   ]
  },
  {
   "cell_type": "code",
   "execution_count": null,
   "id": "e6d6291e-3f5e-48d7-ad42-f0ca4510a227",
   "metadata": {},
   "outputs": [],
   "source": [
    "nj_2020['county Name'].unique()"
   ]
  },
  {
   "cell_type": "code",
   "execution_count": null,
   "id": "eec0b832-3bda-4713-99ba-3cf1e85461c1",
   "metadata": {
    "scrolled": true
   },
   "outputs": [],
   "source": [
    "plt.bar(nj_2020['county Name'].unique(), x_axis)\n",
    "plt.xticks(rotation = 'vertical')\n",
    "plt.ylabel('AQI')\n",
    "plt.title(\"Average AQI by NJ county in 2020\")\n",
    "plt.show()"
   ]
  },
  {
   "cell_type": "code",
   "execution_count": null,
   "id": "fe93e9b8-b09b-4aed-81af-6bef291407f3",
   "metadata": {},
   "outputs": [],
   "source": [
    "nj_2020['Defining Parameter'].value_counts()"
   ]
  },
  {
   "cell_type": "code",
   "execution_count": null,
   "id": "392110d1-71f0-468b-a35d-c8a60c352683",
   "metadata": {},
   "outputs": [],
   "source": [
    "nj_2020_grouped.count()"
   ]
  },
  {
   "cell_type": "code",
   "execution_count": null,
   "id": "efd2efd1-192f-4412-8110-bb8d66aeb71e",
   "metadata": {},
   "outputs": [],
   "source": [
    "atlantic = nj_2020.loc[nj_2020['county Name'] == 'Atlantic', :]\n",
    "atlantic.head()"
   ]
  },
  {
   "cell_type": "code",
   "execution_count": null,
   "id": "3caa4f42-cab9-499d-9c5a-22024ce33253",
   "metadata": {},
   "outputs": [],
   "source": [
    "atlantic['Date'] = pd.to_datetime(atlantic['Date'], format='%Y-%m-%d')\n",
    "atlantic.dtypes"
   ]
  },
  {
   "cell_type": "code",
   "execution_count": null,
   "id": "b7769b2e-a46e-44d3-8932-6ba44626ec23",
   "metadata": {},
   "outputs": [],
   "source": [
    "atlantic_parameter = atlantic.groupby(['Defining Parameter'])\n",
    "atlantic_parameter_mean = atlantic_parameter['AQI'].mean()\n",
    "atlantic_parameter_mean"
   ]
  },
  {
   "cell_type": "code",
   "execution_count": null,
   "id": "ad38c356-a95e-4dc2-970c-b568e19bb688",
   "metadata": {},
   "outputs": [],
   "source": [
    "atlantic_parameter.count()"
   ]
  },
  {
   "cell_type": "code",
   "execution_count": null,
   "id": "dfe536f7-f8de-4355-ab97-7a3167a23433",
   "metadata": {},
   "outputs": [],
   "source": [
    "#plt.scatter(atlantic['AQI'], color = atlantic['Defining Parameter'])"
   ]
  },
  {
   "cell_type": "code",
   "execution_count": null,
   "id": "0f63160b-cd14-4a52-9800-cfeae0e923c9",
   "metadata": {},
   "outputs": [],
   "source": [
    "nj_2020.loc[nj_2020['Defining Parameter'] == 'CO', :]"
   ]
  },
  {
   "cell_type": "code",
   "execution_count": null,
   "id": "e3dca4c4-465f-455a-ab15-3dc42a979895",
   "metadata": {},
   "outputs": [],
   "source": [
    "atlantic = atlantic.set_index('Date')\n",
    "atlantic.head()"
   ]
  },
  {
   "cell_type": "code",
   "execution_count": null,
   "id": "a2ba5530-b91e-4812-9152-b260d11c595f",
   "metadata": {},
   "outputs": [],
   "source": [
    "#nj_2020['Date'] = pd.to_datetime(nj_2020['Date'], format='%Y-%m-%d')\n",
    "nj_2020.dtypes"
   ]
  },
  {
   "cell_type": "code",
   "execution_count": null,
   "id": "6b2bad11-9ece-4207-b1f2-354016369cb1",
   "metadata": {},
   "outputs": [],
   "source": [
    "#nj_2020 = nj_2020.set_index('Date')\n",
    "nj_2020['AQI'].max()"
   ]
  },
  {
   "cell_type": "code",
   "execution_count": null,
   "id": "93d06ae1-160a-42b1-b0bf-278a24b8fa4a",
   "metadata": {},
   "outputs": [],
   "source": [
    "calplot.calplot(nj_2020['AQI'], cmap='Spectral_r', vmin=0, vmax=150)"
   ]
  },
  {
   "cell_type": "code",
   "execution_count": 29,
   "id": "c3b9e7dc-7500-4dd2-8f11-3f2e7014a4cb",
   "metadata": {},
   "outputs": [
    {
     "ename": "NameError",
     "evalue": "name 'atlantic' is not defined",
     "output_type": "error",
     "traceback": [
      "\u001b[1;31m---------------------------------------------------------------------------\u001b[0m",
      "\u001b[1;31mNameError\u001b[0m                                 Traceback (most recent call last)",
      "Cell \u001b[1;32mIn[29], line 1\u001b[0m\n\u001b[1;32m----> 1\u001b[0m calplot\u001b[38;5;241m.\u001b[39mcalplot(\u001b[43matlantic\u001b[49m[\u001b[38;5;124m'\u001b[39m\u001b[38;5;124mAQI\u001b[39m\u001b[38;5;124m'\u001b[39m], cmap\u001b[38;5;241m=\u001b[39m\u001b[38;5;124m'\u001b[39m\u001b[38;5;124mSpectral_r\u001b[39m\u001b[38;5;124m'\u001b[39m, vmin\u001b[38;5;241m=\u001b[39m\u001b[38;5;241m0\u001b[39m, vmax\u001b[38;5;241m=\u001b[39m\u001b[38;5;241m150\u001b[39m)\n",
      "\u001b[1;31mNameError\u001b[0m: name 'atlantic' is not defined"
     ]
    }
   ],
   "source": [
    "calplot.calplot(atlantic['AQI'], cmap='Spectral_r', vmin=0, vmax=150)"
   ]
  },
  {
   "cell_type": "code",
   "execution_count": null,
   "id": "446c5ebf-2ff2-4566-821e-516ae1ee8b25",
   "metadata": {},
   "outputs": [],
   "source": [
    "nj_2020.head()"
   ]
  },
  {
   "cell_type": "code",
   "execution_count": 24,
   "id": "8579c6b0-b8e1-4118-99a9-436376e18611",
   "metadata": {},
   "outputs": [
    {
     "data": {
      "text/html": [
       "<div>\n",
       "<style scoped>\n",
       "    .dataframe tbody tr th:only-of-type {\n",
       "        vertical-align: middle;\n",
       "    }\n",
       "\n",
       "    .dataframe tbody tr th {\n",
       "        vertical-align: top;\n",
       "    }\n",
       "\n",
       "    .dataframe thead th {\n",
       "        text-align: right;\n",
       "    }\n",
       "</style>\n",
       "<table border=\"1\" class=\"dataframe\">\n",
       "  <thead>\n",
       "    <tr style=\"text-align: right;\">\n",
       "      <th></th>\n",
       "      <th>county Name</th>\n",
       "      <th>Defining Parameter</th>\n",
       "      <th>AQI</th>\n",
       "    </tr>\n",
       "  </thead>\n",
       "  <tbody>\n",
       "    <tr>\n",
       "      <th>0</th>\n",
       "      <td>Atlantic</td>\n",
       "      <td>Ozone</td>\n",
       "      <td>33.930328</td>\n",
       "    </tr>\n",
       "    <tr>\n",
       "      <th>1</th>\n",
       "      <td>Atlantic</td>\n",
       "      <td>PM2.5</td>\n",
       "      <td>37.878261</td>\n",
       "    </tr>\n",
       "    <tr>\n",
       "      <th>2</th>\n",
       "      <td>Bergen</td>\n",
       "      <td>CO</td>\n",
       "      <td>1.333333</td>\n",
       "    </tr>\n",
       "    <tr>\n",
       "      <th>3</th>\n",
       "      <td>Bergen</td>\n",
       "      <td>NO2</td>\n",
       "      <td>31.772727</td>\n",
       "    </tr>\n",
       "    <tr>\n",
       "      <th>4</th>\n",
       "      <td>Bergen</td>\n",
       "      <td>Ozone</td>\n",
       "      <td>41.729560</td>\n",
       "    </tr>\n",
       "    <tr>\n",
       "      <th>5</th>\n",
       "      <td>Bergen</td>\n",
       "      <td>PM2.5</td>\n",
       "      <td>45.852941</td>\n",
       "    </tr>\n",
       "    <tr>\n",
       "      <th>6</th>\n",
       "      <td>Camden</td>\n",
       "      <td>NO2</td>\n",
       "      <td>29.300000</td>\n",
       "    </tr>\n",
       "    <tr>\n",
       "      <th>7</th>\n",
       "      <td>Camden</td>\n",
       "      <td>Ozone</td>\n",
       "      <td>38.504950</td>\n",
       "    </tr>\n",
       "    <tr>\n",
       "      <th>8</th>\n",
       "      <td>Camden</td>\n",
       "      <td>PM2.5</td>\n",
       "      <td>46.032468</td>\n",
       "    </tr>\n",
       "    <tr>\n",
       "      <th>9</th>\n",
       "      <td>Cumberland</td>\n",
       "      <td>NO2</td>\n",
       "      <td>20.250000</td>\n",
       "    </tr>\n",
       "    <tr>\n",
       "      <th>10</th>\n",
       "      <td>Cumberland</td>\n",
       "      <td>Ozone</td>\n",
       "      <td>37.402913</td>\n",
       "    </tr>\n",
       "    <tr>\n",
       "      <th>11</th>\n",
       "      <td>Cumberland</td>\n",
       "      <td>PM2.5</td>\n",
       "      <td>41.258065</td>\n",
       "    </tr>\n",
       "    <tr>\n",
       "      <th>12</th>\n",
       "      <td>Essex</td>\n",
       "      <td>CO</td>\n",
       "      <td>6.000000</td>\n",
       "    </tr>\n",
       "    <tr>\n",
       "      <th>13</th>\n",
       "      <td>Essex</td>\n",
       "      <td>NO2</td>\n",
       "      <td>34.507937</td>\n",
       "    </tr>\n",
       "    <tr>\n",
       "      <th>14</th>\n",
       "      <td>Essex</td>\n",
       "      <td>Ozone</td>\n",
       "      <td>39.099379</td>\n",
       "    </tr>\n",
       "    <tr>\n",
       "      <th>15</th>\n",
       "      <td>Essex</td>\n",
       "      <td>PM2.5</td>\n",
       "      <td>47.134752</td>\n",
       "    </tr>\n",
       "    <tr>\n",
       "      <th>16</th>\n",
       "      <td>Gloucester</td>\n",
       "      <td>Ozone</td>\n",
       "      <td>38.364532</td>\n",
       "    </tr>\n",
       "    <tr>\n",
       "      <th>17</th>\n",
       "      <td>Gloucester</td>\n",
       "      <td>PM2.5</td>\n",
       "      <td>29.340000</td>\n",
       "    </tr>\n",
       "    <tr>\n",
       "      <th>18</th>\n",
       "      <td>Hudson</td>\n",
       "      <td>NO2</td>\n",
       "      <td>33.340909</td>\n",
       "    </tr>\n",
       "    <tr>\n",
       "      <th>19</th>\n",
       "      <td>Hudson</td>\n",
       "      <td>Ozone</td>\n",
       "      <td>38.350282</td>\n",
       "    </tr>\n",
       "    <tr>\n",
       "      <th>20</th>\n",
       "      <td>Hudson</td>\n",
       "      <td>PM2.5</td>\n",
       "      <td>46.663366</td>\n",
       "    </tr>\n",
       "    <tr>\n",
       "      <th>21</th>\n",
       "      <td>Hunterdon</td>\n",
       "      <td>Ozone</td>\n",
       "      <td>36.549587</td>\n",
       "    </tr>\n",
       "    <tr>\n",
       "      <th>22</th>\n",
       "      <td>Hunterdon</td>\n",
       "      <td>PM2.5</td>\n",
       "      <td>42.065574</td>\n",
       "    </tr>\n",
       "    <tr>\n",
       "      <th>23</th>\n",
       "      <td>Mercer</td>\n",
       "      <td>Ozone</td>\n",
       "      <td>38.541985</td>\n",
       "    </tr>\n",
       "    <tr>\n",
       "      <th>24</th>\n",
       "      <td>Mercer</td>\n",
       "      <td>PM2.5</td>\n",
       "      <td>43.038462</td>\n",
       "    </tr>\n",
       "    <tr>\n",
       "      <th>25</th>\n",
       "      <td>Middlesex</td>\n",
       "      <td>NO2</td>\n",
       "      <td>29.000000</td>\n",
       "    </tr>\n",
       "    <tr>\n",
       "      <th>26</th>\n",
       "      <td>Middlesex</td>\n",
       "      <td>Ozone</td>\n",
       "      <td>38.459821</td>\n",
       "    </tr>\n",
       "    <tr>\n",
       "      <th>27</th>\n",
       "      <td>Middlesex</td>\n",
       "      <td>PM2.5</td>\n",
       "      <td>41.818898</td>\n",
       "    </tr>\n",
       "    <tr>\n",
       "      <th>28</th>\n",
       "      <td>Monmouth</td>\n",
       "      <td>Ozone</td>\n",
       "      <td>37.765487</td>\n",
       "    </tr>\n",
       "    <tr>\n",
       "      <th>29</th>\n",
       "      <td>Morris</td>\n",
       "      <td>NO2</td>\n",
       "      <td>26.000000</td>\n",
       "    </tr>\n",
       "    <tr>\n",
       "      <th>30</th>\n",
       "      <td>Morris</td>\n",
       "      <td>Ozone</td>\n",
       "      <td>35.492837</td>\n",
       "    </tr>\n",
       "    <tr>\n",
       "      <th>31</th>\n",
       "      <td>Morris</td>\n",
       "      <td>PM2.5</td>\n",
       "      <td>47.555556</td>\n",
       "    </tr>\n",
       "    <tr>\n",
       "      <th>32</th>\n",
       "      <td>Ocean</td>\n",
       "      <td>Ozone</td>\n",
       "      <td>37.530233</td>\n",
       "    </tr>\n",
       "    <tr>\n",
       "      <th>33</th>\n",
       "      <td>Ocean</td>\n",
       "      <td>PM2.5</td>\n",
       "      <td>30.347518</td>\n",
       "    </tr>\n",
       "    <tr>\n",
       "      <th>34</th>\n",
       "      <td>Passaic</td>\n",
       "      <td>Ozone</td>\n",
       "      <td>36.782787</td>\n",
       "    </tr>\n",
       "    <tr>\n",
       "      <th>35</th>\n",
       "      <td>Passaic</td>\n",
       "      <td>PM2.5</td>\n",
       "      <td>30.722222</td>\n",
       "    </tr>\n",
       "    <tr>\n",
       "      <th>36</th>\n",
       "      <td>Union</td>\n",
       "      <td>CO</td>\n",
       "      <td>5.000000</td>\n",
       "    </tr>\n",
       "    <tr>\n",
       "      <th>37</th>\n",
       "      <td>Union</td>\n",
       "      <td>NO2</td>\n",
       "      <td>32.115044</td>\n",
       "    </tr>\n",
       "    <tr>\n",
       "      <th>38</th>\n",
       "      <td>Union</td>\n",
       "      <td>PM2.5</td>\n",
       "      <td>42.565737</td>\n",
       "    </tr>\n",
       "    <tr>\n",
       "      <th>39</th>\n",
       "      <td>Warren</td>\n",
       "      <td>NO2</td>\n",
       "      <td>23.636364</td>\n",
       "    </tr>\n",
       "    <tr>\n",
       "      <th>40</th>\n",
       "      <td>Warren</td>\n",
       "      <td>Ozone</td>\n",
       "      <td>34.850242</td>\n",
       "    </tr>\n",
       "    <tr>\n",
       "      <th>41</th>\n",
       "      <td>Warren</td>\n",
       "      <td>PM2.5</td>\n",
       "      <td>41.165289</td>\n",
       "    </tr>\n",
       "  </tbody>\n",
       "</table>\n",
       "</div>"
      ],
      "text/plain": [
       "   county Name Defining Parameter        AQI\n",
       "0     Atlantic              Ozone  33.930328\n",
       "1     Atlantic              PM2.5  37.878261\n",
       "2       Bergen                 CO   1.333333\n",
       "3       Bergen                NO2  31.772727\n",
       "4       Bergen              Ozone  41.729560\n",
       "5       Bergen              PM2.5  45.852941\n",
       "6       Camden                NO2  29.300000\n",
       "7       Camden              Ozone  38.504950\n",
       "8       Camden              PM2.5  46.032468\n",
       "9   Cumberland                NO2  20.250000\n",
       "10  Cumberland              Ozone  37.402913\n",
       "11  Cumberland              PM2.5  41.258065\n",
       "12       Essex                 CO   6.000000\n",
       "13       Essex                NO2  34.507937\n",
       "14       Essex              Ozone  39.099379\n",
       "15       Essex              PM2.5  47.134752\n",
       "16  Gloucester              Ozone  38.364532\n",
       "17  Gloucester              PM2.5  29.340000\n",
       "18      Hudson                NO2  33.340909\n",
       "19      Hudson              Ozone  38.350282\n",
       "20      Hudson              PM2.5  46.663366\n",
       "21   Hunterdon              Ozone  36.549587\n",
       "22   Hunterdon              PM2.5  42.065574\n",
       "23      Mercer              Ozone  38.541985\n",
       "24      Mercer              PM2.5  43.038462\n",
       "25   Middlesex                NO2  29.000000\n",
       "26   Middlesex              Ozone  38.459821\n",
       "27   Middlesex              PM2.5  41.818898\n",
       "28    Monmouth              Ozone  37.765487\n",
       "29      Morris                NO2  26.000000\n",
       "30      Morris              Ozone  35.492837\n",
       "31      Morris              PM2.5  47.555556\n",
       "32       Ocean              Ozone  37.530233\n",
       "33       Ocean              PM2.5  30.347518\n",
       "34     Passaic              Ozone  36.782787\n",
       "35     Passaic              PM2.5  30.722222\n",
       "36       Union                 CO   5.000000\n",
       "37       Union                NO2  32.115044\n",
       "38       Union              PM2.5  42.565737\n",
       "39      Warren                NO2  23.636364\n",
       "40      Warren              Ozone  34.850242\n",
       "41      Warren              PM2.5  41.165289"
      ]
     },
     "execution_count": 24,
     "metadata": {},
     "output_type": "execute_result"
    }
   ],
   "source": [
    "params_county = nj_2020.groupby(['county Name', 'Defining Parameter'])\n",
    "means = pd.DataFrame(params_county['AQI'].mean())\n",
    "means_by_param = means.reset_index()\n",
    "#means_by_param.loc[means_by_param['Defining Parameter'] == 'PM2.5',:]\n",
    "means_by_param"
   ]
  },
  {
   "cell_type": "code",
   "execution_count": 25,
   "id": "ac3e1df8-cb61-4053-8665-2c71f51422c0",
   "metadata": {},
   "outputs": [],
   "source": [
    "means_pm25 = []\n",
    "names_pm25 = []\n",
    "names_ozones = []\n",
    "means_ozones = []\n",
    "names_no2 = []\n",
    "means_no2 = []\n",
    "\n",
    "for index, row in means_by_param.iterrows():\n",
    "    if row['Defining Parameter'] == 'PM2.5':\n",
    "        means_pm25.append(row['AQI'])\n",
    "        names_pm25.append(row['county Name'])\n",
    "    elif row['Defining Parameter'] == 'NO2':\n",
    "        means_no2.append(row['AQI'])\n",
    "        names_no2.append(row['county Name'])\n",
    "    elif row['Defining Parameter'] == 'Ozone':\n",
    "        means_ozones.append(row['AQI'])\n",
    "        names_ozones.append(row['county Name'])\n"
   ]
  },
  {
   "cell_type": "code",
   "execution_count": 26,
   "id": "23dba9b2-bad7-4a2b-994f-f0949df2d282",
   "metadata": {},
   "outputs": [
    {
     "data": {
      "image/png": "[encoded data removed]",
      "text/plain": [
       "<Figure size 640x480 with 1 Axes>"
      ]
     },
     "metadata": {},
     "output_type": "display_data"
    }
   ],
   "source": [
    "plt.bar(names_pm25, means_pm25)\n",
    "plt.xticks(rotation = 'vertical')\n",
    "plt.ylabel('AQI')\n",
    "plt.title(\"Average AQI by NJ county in 2020 by PM2.5\")\n",
    "plt.show()"
   ]
  },
  {
   "cell_type": "code",
   "execution_count": 27,
   "id": "2b53f512-48d5-43ef-9182-1f9fd1c3a7eb",
   "metadata": {},
   "outputs": [
    {
     "data": {
      "image/png": "[encoded data removed]",
      "text/plain": [
       "<Figure size 640x480 with 1 Axes>"
      ]
     },
     "metadata": {},
     "output_type": "display_data"
    }
   ],
   "source": [
    "plt.bar(names_ozones, means_ozones)\n",
    "plt.xticks(rotation = 'vertical')\n",
    "plt.ylabel('AQI')\n",
    "plt.title(\"Average AQI by NJ county in 2020 by Ozone\")\n",
    "plt.show()"
   ]
  },
  {
   "cell_type": "code",
   "execution_count": 28,
   "id": "93aced4d-d917-44b6-b694-26387f75287e",
   "metadata": {},
   "outputs": [
    {
     "data": {
      "image/png": "[encoded data removed]",
      "text/plain": [
       "<Figure size 640x480 with 1 Axes>"
      ]
     },
     "metadata": {},
     "output_type": "display_data"
    }
   ],
   "source": [
    "plt.bar(names_no2, means_no2)\n",
    "plt.xticks(rotation = 'vertical')\n",
    "plt.ylabel('AQI')\n",
    "plt.title(\"Average AQI by NJ county in 2020 by NO2\")\n",
    "plt.show()"
   ]
  },
  {
   "cell_type": "code",
   "execution_count": null,
   "id": "76a2a9d3-2c0a-4025-8c9c-aad9e146787f",
   "metadata": {},
   "outputs": [],
   "source": [
    "grouped_param = nj_2020.groupby('Defining Parameter')\n",
    "means_nj = grouped_param['AQI'].median()\n",
    "means_nj"
   ]
  },
  {
   "cell_type": "code",
   "execution_count": 34,
   "id": "ab4f209e-f2d6-413a-a0e6-e69a968462ab",
   "metadata": {},
   "outputs": [
    {
     "data": {
      "text/plain": [
       "<Axes: title={'center': 'AQI'}, xlabel='Defining Parameter'>"
      ]
     },
     "execution_count": 34,
     "metadata": {},
     "output_type": "execute_result"
    },
    {
     "data": {
      "image/png": "[encoded data removed]",
      "text/plain": [
       "<Figure size 1000x1000 with 1 Axes>"
      ]
     },
     "metadata": {},
     "output_type": "display_data"
    }
   ],
   "source": [
    "nj_2020.boxplot('AQI', by='Defining Parameter', figsize=(10,10))"
   ]
  },
  {
   "cell_type": "code",
   "execution_count": null,
   "id": "158c44cf-0a2b-402e-831c-fb55796bd064",
   "metadata": {},
   "outputs": [],
   "source": [
    "atlantic.boxplot('AQI', by='Defining Parameter')"
   ]
  },
  {
   "cell_type": "code",
   "execution_count": null,
   "id": "2c12ad52-17c6-44d5-86d7-037573237b07",
   "metadata": {},
   "outputs": [],
   "source": [
    "nj_2020['Defining Parameter'].value_counts()"
   ]
  },
  {
   "cell_type": "code",
   "execution_count": null,
   "id": "616d0512-98b4-48d2-b85c-448666eaece2",
   "metadata": {},
   "outputs": [],
   "source": [
    "nj_2020.head()"
   ]
  },
  {
   "cell_type": "code",
   "execution_count": null,
   "id": "31705302-bd03-4dbb-9e07-1d0fefe9db92",
   "metadata": {},
   "outputs": [],
   "source": [
    "pm25 = nj_2020.loc[nj_2020['Defining Parameter'] == 'PM2.5', :]\n",
    "pm25"
   ]
  },
  {
   "cell_type": "code",
   "execution_count": null,
   "id": "8a02fdf2-0e93-40d6-b637-35805e2a7770",
   "metadata": {},
   "outputs": [],
   "source": [
    "nj_2020['county Name'].value_counts()"
   ]
  },
  {
   "cell_type": "code",
   "execution_count": null,
   "id": "de089103-b60d-4499-9c8b-809409e2f463",
   "metadata": {},
   "outputs": [],
   "source": [
    "camden['Date'] = pd.to_datetime(camden['Date'], format='%Y-%m-%d')\n",
    "#camden = camden.set_index('Date')\n",
    "#camden = camden.reset_index('Date')\n",
    "\n",
    "camden.head()"
   ]
  },
  {
   "cell_type": "code",
   "execution_count": null,
   "id": "4e5c9944-5939-4a6d-854e-3dfd9fe60af8",
   "metadata": {},
   "outputs": [],
   "source": [
    "calplot.calplot(camden['AQI'], cmap='Spectral_r', vmin=0, vmax=150)"
   ]
  },
  {
   "cell_type": "code",
   "execution_count": null,
   "id": "9b318fab-f3ef-4e5e-8d8f-67c6d6b7da35",
   "metadata": {},
   "outputs": [],
   "source": [
    "#counts = nj_2020['AQI'].value_counts()\n",
    "nj_2020['Defining Parameter'].value_counts()"
   ]
  },
  {
   "cell_type": "code",
   "execution_count": null,
   "id": "8dd41f1a-b996-4e86-b475-1dd9285ceb1c",
   "metadata": {},
   "outputs": [],
   "source": [
    "#nj_2020.plot(kind='scatter',x=nj_2020.index, y=nj_2020['AQI'], color=nj_2020['Defining Parameter'])"
   ]
  },
  {
   "cell_type": "code",
   "execution_count": 36,
   "id": "19e5e7ba-48da-4947-b811-8e567927f79f",
   "metadata": {},
   "outputs": [],
   "source": [
    "import scipy.stats as st"
   ]
  },
  {
   "cell_type": "code",
   "execution_count": null,
   "id": "33e5271c-1707-4c26-8606-db48c45115da",
   "metadata": {},
   "outputs": [],
   "source": [
    "nj_2020.dtypes"
   ]
  },
  {
   "cell_type": "code",
   "execution_count": null,
   "id": "fb23882b-11bc-4f7c-9740-f40963e1a9b8",
   "metadata": {},
   "outputs": [],
   "source": [
    "nj_2020.head()"
   ]
  },
  {
   "cell_type": "code",
   "execution_count": 39,
   "id": "3567c623-b3b0-4656-9fd8-15dca8808e71",
   "metadata": {},
   "outputs": [
    {
     "data": {
      "text/html": [
       "<div>\n",
       "<style scoped>\n",
       "    .dataframe tbody tr th:only-of-type {\n",
       "        vertical-align: middle;\n",
       "    }\n",
       "\n",
       "    .dataframe tbody tr th {\n",
       "        vertical-align: top;\n",
       "    }\n",
       "\n",
       "    .dataframe thead th {\n",
       "        text-align: right;\n",
       "    }\n",
       "</style>\n",
       "<table border=\"1\" class=\"dataframe\">\n",
       "  <thead>\n",
       "    <tr style=\"text-align: right;\">\n",
       "      <th></th>\n",
       "      <th>index</th>\n",
       "      <th>State Name</th>\n",
       "      <th>county Name</th>\n",
       "      <th>State Code</th>\n",
       "      <th>County Code</th>\n",
       "      <th>Date</th>\n",
       "      <th>AQI</th>\n",
       "      <th>Category</th>\n",
       "      <th>Defining Parameter</th>\n",
       "      <th>Defining Site</th>\n",
       "      <th>Number of Sites Reporting</th>\n",
       "      <th>Param Num</th>\n",
       "    </tr>\n",
       "  </thead>\n",
       "  <tbody>\n",
       "    <tr>\n",
       "      <th>0</th>\n",
       "      <td>170457</td>\n",
       "      <td>New Jersey</td>\n",
       "      <td>Atlantic</td>\n",
       "      <td>34</td>\n",
       "      <td>1</td>\n",
       "      <td>2020-01-01</td>\n",
       "      <td>24</td>\n",
       "      <td>Good</td>\n",
       "      <td>Ozone</td>\n",
       "      <td>34-001-0006</td>\n",
       "      <td>2</td>\n",
       "      <td>3</td>\n",
       "    </tr>\n",
       "    <tr>\n",
       "      <th>1</th>\n",
       "      <td>170458</td>\n",
       "      <td>New Jersey</td>\n",
       "      <td>Atlantic</td>\n",
       "      <td>34</td>\n",
       "      <td>1</td>\n",
       "      <td>2020-01-02</td>\n",
       "      <td>32</td>\n",
       "      <td>Good</td>\n",
       "      <td>PM2.5</td>\n",
       "      <td>34-001-0006</td>\n",
       "      <td>1</td>\n",
       "      <td>2</td>\n",
       "    </tr>\n",
       "    <tr>\n",
       "      <th>2</th>\n",
       "      <td>170459</td>\n",
       "      <td>New Jersey</td>\n",
       "      <td>Atlantic</td>\n",
       "      <td>34</td>\n",
       "      <td>1</td>\n",
       "      <td>2020-01-03</td>\n",
       "      <td>24</td>\n",
       "      <td>Good</td>\n",
       "      <td>Ozone</td>\n",
       "      <td>34-001-0006</td>\n",
       "      <td>1</td>\n",
       "      <td>3</td>\n",
       "    </tr>\n",
       "    <tr>\n",
       "      <th>3</th>\n",
       "      <td>170460</td>\n",
       "      <td>New Jersey</td>\n",
       "      <td>Atlantic</td>\n",
       "      <td>34</td>\n",
       "      <td>1</td>\n",
       "      <td>2020-01-04</td>\n",
       "      <td>33</td>\n",
       "      <td>Good</td>\n",
       "      <td>PM2.5</td>\n",
       "      <td>34-001-0006</td>\n",
       "      <td>2</td>\n",
       "      <td>2</td>\n",
       "    </tr>\n",
       "    <tr>\n",
       "      <th>4</th>\n",
       "      <td>170461</td>\n",
       "      <td>New Jersey</td>\n",
       "      <td>Atlantic</td>\n",
       "      <td>34</td>\n",
       "      <td>1</td>\n",
       "      <td>2020-01-05</td>\n",
       "      <td>27</td>\n",
       "      <td>Good</td>\n",
       "      <td>Ozone</td>\n",
       "      <td>34-001-0006</td>\n",
       "      <td>1</td>\n",
       "      <td>3</td>\n",
       "    </tr>\n",
       "  </tbody>\n",
       "</table>\n",
       "</div>"
      ],
      "text/plain": [
       "    index  State Name county Name  State Code  County Code        Date  AQI  \\\n",
       "0  170457  New Jersey    Atlantic          34            1  2020-01-01   24   \n",
       "1  170458  New Jersey    Atlantic          34            1  2020-01-02   32   \n",
       "2  170459  New Jersey    Atlantic          34            1  2020-01-03   24   \n",
       "3  170460  New Jersey    Atlantic          34            1  2020-01-04   33   \n",
       "4  170461  New Jersey    Atlantic          34            1  2020-01-05   27   \n",
       "\n",
       "  Category Defining Parameter Defining Site  Number of Sites Reporting  \\\n",
       "0     Good              Ozone   34-001-0006                          2   \n",
       "1     Good              PM2.5   34-001-0006                          1   \n",
       "2     Good              Ozone   34-001-0006                          1   \n",
       "3     Good              PM2.5   34-001-0006                          2   \n",
       "4     Good              Ozone   34-001-0006                          1   \n",
       "\n",
       "   Param Num  \n",
       "0          3  \n",
       "1          2  \n",
       "2          3  \n",
       "3          2  \n",
       "4          3  "
      ]
     },
     "execution_count": 39,
     "metadata": {},
     "output_type": "execute_result"
    }
   ],
   "source": [
    "#nj_df = nj_2020.reset_index()\n",
    "#nj_2020['Param Num'] = \"\"\n",
    "param_num = []\n",
    "for index, row in nj_df.iterrows():\n",
    "    if row['Defining Parameter'] == 'PM2.5':\n",
    "        #print(row['Param Num'])\n",
    "        param_num.append(2)\n",
    "    if row['Defining Parameter'] == 'Ozone':\n",
    "        param_num.append(3)\n",
    "        #print(row['Param Num'])\n",
    "    if row['Defining Parameter'] == 'NO2':\n",
    "        param_num.append(1)\n",
    "        #print(row['Param Num'])\n",
    "    if row['Defining Parameter'] == 'CO':\n",
    "        param_num.append(0)\n",
    "        #print(row['Param Num'])\n",
    "\n",
    "nj_df['Param Num'] = param_num\n",
    "nj_df.head()"
   ]
  },
  {
   "cell_type": "code",
   "execution_count": 40,
   "id": "becd6578-6bf1-4781-826e-25906547adb0",
   "metadata": {},
   "outputs": [
    {
     "data": {
      "text/plain": [
       "<matplotlib.collections.PathCollection at 0x1c03c9d5b10>"
      ]
     },
     "execution_count": 40,
     "metadata": {},
     "output_type": "execute_result"
    },
    {
     "data": {
      "image/png": "[encoded data removed]",
      "text/plain": [
       "<Figure size 640x480 with 1 Axes>"
      ]
     },
     "metadata": {},
     "output_type": "display_data"
    }
   ],
   "source": [
    "plt.scatter(nj_df['AQI'], nj_df['Defining Parameter'])"
   ]
  },
  {
   "cell_type": "code",
   "execution_count": 46,
   "id": "2f82615c-c5a4-4d51-84d3-69c170c2fa11",
   "metadata": {},
   "outputs": [
    {
     "name": "stdout",
     "output_type": "stream",
     "text": [
      "The correlation between both factors is 0.00029912991889072954\n"
     ]
    }
   ],
   "source": [
    "correlation = st.pearsonr(nj_df['AQI'], nj_df['Param Num'])\n",
    "correlation\n",
    "print(f\"The correlation between both factors is {correlation[0]}\")"
   ]
  },
  {
   "cell_type": "code",
   "execution_count": 57,
   "id": "3a2ab287-2652-484c-b813-7d3a0a2e9660",
   "metadata": {},
   "outputs": [],
   "source": [
    "\n",
    "import numpy as np\n",
    "import scipy.stats as stats"
   ]
  },
  {
   "cell_type": "code",
   "execution_count": 58,
   "id": "7f9163bd-d1b5-4f38-8411-bc95c3e516d7",
   "metadata": {},
   "outputs": [
    {
     "data": {
      "text/plain": [
       "0.0002991299188907966"
      ]
     },
     "execution_count": 58,
     "metadata": {},
     "output_type": "execute_result"
    }
   ],
   "source": [
    "x = nj_df['AQI']\n",
    "y = nj_df['Param Num']\n",
    "x.corr(y)"
   ]
  },
  {
   "cell_type": "code",
   "execution_count": 59,
   "id": "3ba59417-f4bd-464a-b7fb-7791bcfd9a95",
   "metadata": {},
   "outputs": [
    {
     "data": {
      "text/plain": [
       "LinregressResult(slope=1.499395462809351e-05, intercept=2.5310417070392934, rvalue=0.0002991299188907966, pvalue=0.9823502598599294, stderr=0.0006777392793348664, intercept_stderr=0.027315131060791534)"
      ]
     },
     "execution_count": 59,
     "metadata": {},
     "output_type": "execute_result"
    }
   ],
   "source": [
    "result = scipy.stats.linregress(x, y)\n",
    "result"
   ]
  },
  {
   "cell_type": "code",
   "execution_count": 60,
   "id": "c857c19c-ae50-4726-9b21-f827d92826b7",
   "metadata": {},
   "outputs": [
    {
     "data": {
      "text/plain": [
       "array(['Ozone', 'PM2.5', 'NO2', 'CO'], dtype=object)"
      ]
     },
     "execution_count": 60,
     "metadata": {},
     "output_type": "execute_result"
    }
   ],
   "source": [
    "nj_df['Defining Parameter'].unique()"
   ]
  },
  {
   "cell_type": "code",
   "execution_count": 61,
   "id": "a2625d7a-f025-4062-9c5a-0733863fbce3",
   "metadata": {},
   "outputs": [],
   "source": [
    "group0 = nj_df[nj_df[\"Defining Parameter\"] == 'PM2.5']['AQI']\n",
    "group1 = nj_df[nj_df[\"Defining Parameter\"] == 'Ozone'][\"AQI\"]\n",
    "group2 = nj_df[nj_df[\"Defining Parameter\"] == 'NO2'][\"AQI\"]\n",
    "group3 = nj_df[nj_df[\"Defining Parameter\"] == 'CO'][\"AQI\"]"
   ]
  },
  {
   "cell_type": "code",
   "execution_count": 63,
   "id": "69e58bfe-db0e-4989-af5d-e50e7a610c6e",
   "metadata": {},
   "outputs": [
    {
     "data": {
      "text/plain": [
       "F_onewayResult(statistic=106.95593098879746, pvalue=2.730701877632219e-67)"
      ]
     },
     "execution_count": 63,
     "metadata": {},
     "output_type": "execute_result"
    }
   ],
   "source": [
    "stat = stats.f_oneway(group0, group1, group2, group3)\n",
    "stat"
   ]
  },
  {
   "cell_type": "code",
   "execution_count": null,
   "id": "c8fe0ca7-812b-4f56-98d4-b1a7dde57939",
   "metadata": {},
   "outputs": [],
   "source": []
  }
 ],
 "metadata": {
  "kernelspec": {
   "display_name": "Python 3 (ipykernel)",
   "language": "python",
   "name": "python3"
  },
  "language_info": {
   "codemirror_mode": {
    "name": "ipython",
    "version": 3
   },
   "file_extension": ".py",
   "mimetype": "text/x-python",
   "name": "python",
   "nbconvert_exporter": "python",
   "pygments_lexer": "ipython3",
   "version": "3.10.14"
  }
 },
 "nbformat": 4,
 "nbformat_minor": 5
}
